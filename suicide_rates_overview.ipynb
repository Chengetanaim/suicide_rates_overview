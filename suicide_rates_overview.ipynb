{
 "cells": [
  {
   "cell_type": "markdown",
   "id": "5450cf37",
   "metadata": {},
   "source": [
    "# Suicide Rates Overview\n",
    "This is a data analysis project where I analyze the suicide rates of certain countries provided by the dataset from 1985 to 2016.<br>\n",
    "The data set contains various features/attributes such as the country, year, sex, age, population and of of course, the number of suicides."
   ]
  },
  {
   "cell_type": "markdown",
   "id": "e3368ead",
   "metadata": {},
   "source": [
    "## Data Wrangling\n",
    "Data wrangling/manipulation is taking our input data from its original state and putting it in a format where we can perform meaningful analysis on it.<br>\n",
    "I'm going to perform some data wrangling by cleaning my data, transforming it and enriching it."
   ]
  },
  {
   "cell_type": "code",
   "execution_count": 1,
   "id": "30306ecb",
   "metadata": {},
   "outputs": [],
   "source": [
    "import pandas as pd"
   ]
  },
  {
   "cell_type": "code",
   "execution_count": 2,
   "id": "a1c6e59c",
   "metadata": {},
   "outputs": [],
   "source": [
    "sr = pd.read_csv('data/master.csv')"
   ]
  },
  {
   "cell_type": "code",
   "execution_count": 3,
   "id": "726ef071",
   "metadata": {},
   "outputs": [
    {
     "data": {
      "text/html": [
       "<div>\n",
       "<style scoped>\n",
       "    .dataframe tbody tr th:only-of-type {\n",
       "        vertical-align: middle;\n",
       "    }\n",
       "\n",
       "    .dataframe tbody tr th {\n",
       "        vertical-align: top;\n",
       "    }\n",
       "\n",
       "    .dataframe thead th {\n",
       "        text-align: right;\n",
       "    }\n",
       "</style>\n",
       "<table border=\"1\" class=\"dataframe\">\n",
       "  <thead>\n",
       "    <tr style=\"text-align: right;\">\n",
       "      <th></th>\n",
       "      <th>country</th>\n",
       "      <th>year</th>\n",
       "      <th>sex</th>\n",
       "      <th>age</th>\n",
       "      <th>suicides_no</th>\n",
       "      <th>population</th>\n",
       "      <th>suicides/100k pop</th>\n",
       "      <th>country-year</th>\n",
       "      <th>HDI for year</th>\n",
       "      <th>gdp_for_year ($)</th>\n",
       "      <th>gdp_per_capita ($)</th>\n",
       "      <th>generation</th>\n",
       "    </tr>\n",
       "  </thead>\n",
       "  <tbody>\n",
       "    <tr>\n",
       "      <th>0</th>\n",
       "      <td>Albania</td>\n",
       "      <td>1987</td>\n",
       "      <td>male</td>\n",
       "      <td>15-24 years</td>\n",
       "      <td>21</td>\n",
       "      <td>312900</td>\n",
       "      <td>6.71</td>\n",
       "      <td>Albania1987</td>\n",
       "      <td>NaN</td>\n",
       "      <td>2,156,624,900</td>\n",
       "      <td>796</td>\n",
       "      <td>Generation X</td>\n",
       "    </tr>\n",
       "    <tr>\n",
       "      <th>1</th>\n",
       "      <td>Albania</td>\n",
       "      <td>1987</td>\n",
       "      <td>male</td>\n",
       "      <td>35-54 years</td>\n",
       "      <td>16</td>\n",
       "      <td>308000</td>\n",
       "      <td>5.19</td>\n",
       "      <td>Albania1987</td>\n",
       "      <td>NaN</td>\n",
       "      <td>2,156,624,900</td>\n",
       "      <td>796</td>\n",
       "      <td>Silent</td>\n",
       "    </tr>\n",
       "    <tr>\n",
       "      <th>2</th>\n",
       "      <td>Albania</td>\n",
       "      <td>1987</td>\n",
       "      <td>female</td>\n",
       "      <td>15-24 years</td>\n",
       "      <td>14</td>\n",
       "      <td>289700</td>\n",
       "      <td>4.83</td>\n",
       "      <td>Albania1987</td>\n",
       "      <td>NaN</td>\n",
       "      <td>2,156,624,900</td>\n",
       "      <td>796</td>\n",
       "      <td>Generation X</td>\n",
       "    </tr>\n",
       "    <tr>\n",
       "      <th>3</th>\n",
       "      <td>Albania</td>\n",
       "      <td>1987</td>\n",
       "      <td>male</td>\n",
       "      <td>75+ years</td>\n",
       "      <td>1</td>\n",
       "      <td>21800</td>\n",
       "      <td>4.59</td>\n",
       "      <td>Albania1987</td>\n",
       "      <td>NaN</td>\n",
       "      <td>2,156,624,900</td>\n",
       "      <td>796</td>\n",
       "      <td>G.I. Generation</td>\n",
       "    </tr>\n",
       "    <tr>\n",
       "      <th>4</th>\n",
       "      <td>Albania</td>\n",
       "      <td>1987</td>\n",
       "      <td>male</td>\n",
       "      <td>25-34 years</td>\n",
       "      <td>9</td>\n",
       "      <td>274300</td>\n",
       "      <td>3.28</td>\n",
       "      <td>Albania1987</td>\n",
       "      <td>NaN</td>\n",
       "      <td>2,156,624,900</td>\n",
       "      <td>796</td>\n",
       "      <td>Boomers</td>\n",
       "    </tr>\n",
       "  </tbody>\n",
       "</table>\n",
       "</div>"
      ],
      "text/plain": [
       "   country  year     sex          age  suicides_no  population  \\\n",
       "0  Albania  1987    male  15-24 years           21      312900   \n",
       "1  Albania  1987    male  35-54 years           16      308000   \n",
       "2  Albania  1987  female  15-24 years           14      289700   \n",
       "3  Albania  1987    male    75+ years            1       21800   \n",
       "4  Albania  1987    male  25-34 years            9      274300   \n",
       "\n",
       "   suicides/100k pop country-year  HDI for year  gdp_for_year ($)   \\\n",
       "0               6.71  Albania1987           NaN      2,156,624,900   \n",
       "1               5.19  Albania1987           NaN      2,156,624,900   \n",
       "2               4.83  Albania1987           NaN      2,156,624,900   \n",
       "3               4.59  Albania1987           NaN      2,156,624,900   \n",
       "4               3.28  Albania1987           NaN      2,156,624,900   \n",
       "\n",
       "   gdp_per_capita ($)       generation  \n",
       "0                 796     Generation X  \n",
       "1                 796           Silent  \n",
       "2                 796     Generation X  \n",
       "3                 796  G.I. Generation  \n",
       "4                 796          Boomers  "
      ]
     },
     "execution_count": 3,
     "metadata": {},
     "output_type": "execute_result"
    }
   ],
   "source": [
    "sr.head()"
   ]
  },
  {
   "cell_type": "code",
   "execution_count": 4,
   "id": "40399eaf",
   "metadata": {},
   "outputs": [
    {
     "data": {
      "text/plain": [
       "Index(['country', 'year', 'sex', 'age', 'suicides_no', 'population',\n",
       "       'suicides/100k pop', 'country-year', 'HDI for year',\n",
       "       ' gdp_for_year ($) ', 'gdp_per_capita ($)', 'generation'],\n",
       "      dtype='object')"
      ]
     },
     "execution_count": 4,
     "metadata": {},
     "output_type": "execute_result"
    }
   ],
   "source": [
    "sr.columns"
   ]
  },
  {
   "cell_type": "markdown",
   "id": "6827b5fa",
   "metadata": {},
   "source": [
    "Upon printing out the column names, I see that one column has some whitespace.<br>\n",
    "I decide to remove this whitespace manually."
   ]
  },
  {
   "cell_type": "code",
   "execution_count": 5,
   "id": "827621ff",
   "metadata": {},
   "outputs": [],
   "source": [
    "sr.rename(columns={' gdp_for_year ($) ': 'gdp_for_year ($)'}, inplace=True)"
   ]
  },
  {
   "cell_type": "code",
   "execution_count": 6,
   "id": "18fef5e0",
   "metadata": {},
   "outputs": [
    {
     "data": {
      "text/plain": [
       "Index(['country', 'year', 'sex', 'age', 'suicides_no', 'population',\n",
       "       'suicides/100k pop', 'country-year', 'HDI for year', 'gdp_for_year ($)',\n",
       "       'gdp_per_capita ($)', 'generation'],\n",
       "      dtype='object')"
      ]
     },
     "execution_count": 6,
     "metadata": {},
     "output_type": "execute_result"
    }
   ],
   "source": [
    "sr.columns"
   ]
  },
  {
   "cell_type": "code",
   "execution_count": 7,
   "id": "2cf5fd73",
   "metadata": {},
   "outputs": [
    {
     "data": {
      "text/plain": [
       "array([1987, 1988, 1989, 1992, 1993, 1994, 1995, 1996, 1997, 1998, 1999,\n",
       "       2000, 2001, 2002, 2003, 2004, 2005, 2006, 2007, 2008, 2009, 2010,\n",
       "       1985, 1986, 1990, 1991, 2012, 2013, 2014, 2015, 2011, 2016],\n",
       "      dtype=int64)"
      ]
     },
     "execution_count": 7,
     "metadata": {},
     "output_type": "execute_result"
    }
   ],
   "source": [
    "sr.year.unique()"
   ]
  },
  {
   "cell_type": "markdown",
   "id": "a8310e26",
   "metadata": {},
   "source": [
    "The year column has 32 unique values.  I then use this column as the index.<br>\n",
    "The values are not sorted as seen from the output array of the unique values of the year, so I then decide to sort the index."
   ]
  },
  {
   "cell_type": "code",
   "execution_count": 8,
   "id": "9c1024cc",
   "metadata": {},
   "outputs": [],
   "source": [
    "sr.set_index('year', inplace=True)"
   ]
  },
  {
   "cell_type": "code",
   "execution_count": 9,
   "id": "53645f23",
   "metadata": {},
   "outputs": [
    {
     "data": {
      "text/html": [
       "<div>\n",
       "<style scoped>\n",
       "    .dataframe tbody tr th:only-of-type {\n",
       "        vertical-align: middle;\n",
       "    }\n",
       "\n",
       "    .dataframe tbody tr th {\n",
       "        vertical-align: top;\n",
       "    }\n",
       "\n",
       "    .dataframe thead th {\n",
       "        text-align: right;\n",
       "    }\n",
       "</style>\n",
       "<table border=\"1\" class=\"dataframe\">\n",
       "  <thead>\n",
       "    <tr style=\"text-align: right;\">\n",
       "      <th></th>\n",
       "      <th>country</th>\n",
       "      <th>sex</th>\n",
       "      <th>age</th>\n",
       "      <th>suicides_no</th>\n",
       "      <th>population</th>\n",
       "      <th>suicides/100k pop</th>\n",
       "      <th>country-year</th>\n",
       "      <th>HDI for year</th>\n",
       "      <th>gdp_for_year ($)</th>\n",
       "      <th>gdp_per_capita ($)</th>\n",
       "      <th>generation</th>\n",
       "    </tr>\n",
       "    <tr>\n",
       "      <th>year</th>\n",
       "      <th></th>\n",
       "      <th></th>\n",
       "      <th></th>\n",
       "      <th></th>\n",
       "      <th></th>\n",
       "      <th></th>\n",
       "      <th></th>\n",
       "      <th></th>\n",
       "      <th></th>\n",
       "      <th></th>\n",
       "      <th></th>\n",
       "    </tr>\n",
       "  </thead>\n",
       "  <tbody>\n",
       "    <tr>\n",
       "      <th>1987</th>\n",
       "      <td>Albania</td>\n",
       "      <td>male</td>\n",
       "      <td>15-24 years</td>\n",
       "      <td>21</td>\n",
       "      <td>312900</td>\n",
       "      <td>6.71</td>\n",
       "      <td>Albania1987</td>\n",
       "      <td>NaN</td>\n",
       "      <td>2,156,624,900</td>\n",
       "      <td>796</td>\n",
       "      <td>Generation X</td>\n",
       "    </tr>\n",
       "    <tr>\n",
       "      <th>1987</th>\n",
       "      <td>Albania</td>\n",
       "      <td>male</td>\n",
       "      <td>35-54 years</td>\n",
       "      <td>16</td>\n",
       "      <td>308000</td>\n",
       "      <td>5.19</td>\n",
       "      <td>Albania1987</td>\n",
       "      <td>NaN</td>\n",
       "      <td>2,156,624,900</td>\n",
       "      <td>796</td>\n",
       "      <td>Silent</td>\n",
       "    </tr>\n",
       "    <tr>\n",
       "      <th>1987</th>\n",
       "      <td>Albania</td>\n",
       "      <td>female</td>\n",
       "      <td>15-24 years</td>\n",
       "      <td>14</td>\n",
       "      <td>289700</td>\n",
       "      <td>4.83</td>\n",
       "      <td>Albania1987</td>\n",
       "      <td>NaN</td>\n",
       "      <td>2,156,624,900</td>\n",
       "      <td>796</td>\n",
       "      <td>Generation X</td>\n",
       "    </tr>\n",
       "    <tr>\n",
       "      <th>1987</th>\n",
       "      <td>Albania</td>\n",
       "      <td>male</td>\n",
       "      <td>75+ years</td>\n",
       "      <td>1</td>\n",
       "      <td>21800</td>\n",
       "      <td>4.59</td>\n",
       "      <td>Albania1987</td>\n",
       "      <td>NaN</td>\n",
       "      <td>2,156,624,900</td>\n",
       "      <td>796</td>\n",
       "      <td>G.I. Generation</td>\n",
       "    </tr>\n",
       "    <tr>\n",
       "      <th>1987</th>\n",
       "      <td>Albania</td>\n",
       "      <td>male</td>\n",
       "      <td>25-34 years</td>\n",
       "      <td>9</td>\n",
       "      <td>274300</td>\n",
       "      <td>3.28</td>\n",
       "      <td>Albania1987</td>\n",
       "      <td>NaN</td>\n",
       "      <td>2,156,624,900</td>\n",
       "      <td>796</td>\n",
       "      <td>Boomers</td>\n",
       "    </tr>\n",
       "  </tbody>\n",
       "</table>\n",
       "</div>"
      ],
      "text/plain": [
       "      country     sex          age  suicides_no  population  \\\n",
       "year                                                          \n",
       "1987  Albania    male  15-24 years           21      312900   \n",
       "1987  Albania    male  35-54 years           16      308000   \n",
       "1987  Albania  female  15-24 years           14      289700   \n",
       "1987  Albania    male    75+ years            1       21800   \n",
       "1987  Albania    male  25-34 years            9      274300   \n",
       "\n",
       "      suicides/100k pop country-year  HDI for year gdp_for_year ($)  \\\n",
       "year                                                                  \n",
       "1987               6.71  Albania1987           NaN    2,156,624,900   \n",
       "1987               5.19  Albania1987           NaN    2,156,624,900   \n",
       "1987               4.83  Albania1987           NaN    2,156,624,900   \n",
       "1987               4.59  Albania1987           NaN    2,156,624,900   \n",
       "1987               3.28  Albania1987           NaN    2,156,624,900   \n",
       "\n",
       "      gdp_per_capita ($)       generation  \n",
       "year                                       \n",
       "1987                 796     Generation X  \n",
       "1987                 796           Silent  \n",
       "1987                 796     Generation X  \n",
       "1987                 796  G.I. Generation  \n",
       "1987                 796          Boomers  "
      ]
     },
     "execution_count": 9,
     "metadata": {},
     "output_type": "execute_result"
    }
   ],
   "source": [
    "sr.head()"
   ]
  },
  {
   "cell_type": "code",
   "execution_count": 10,
   "id": "df9c54e3",
   "metadata": {},
   "outputs": [],
   "source": [
    "sr.sort_index(inplace=True)"
   ]
  },
  {
   "cell_type": "code",
   "execution_count": 11,
   "id": "f5267a9a",
   "metadata": {},
   "outputs": [
    {
     "data": {
      "text/html": [
       "<div>\n",
       "<style scoped>\n",
       "    .dataframe tbody tr th:only-of-type {\n",
       "        vertical-align: middle;\n",
       "    }\n",
       "\n",
       "    .dataframe tbody tr th {\n",
       "        vertical-align: top;\n",
       "    }\n",
       "\n",
       "    .dataframe thead th {\n",
       "        text-align: right;\n",
       "    }\n",
       "</style>\n",
       "<table border=\"1\" class=\"dataframe\">\n",
       "  <thead>\n",
       "    <tr style=\"text-align: right;\">\n",
       "      <th></th>\n",
       "      <th>country</th>\n",
       "      <th>sex</th>\n",
       "      <th>age</th>\n",
       "      <th>suicides_no</th>\n",
       "      <th>population</th>\n",
       "      <th>suicides/100k pop</th>\n",
       "      <th>country-year</th>\n",
       "      <th>HDI for year</th>\n",
       "      <th>gdp_for_year ($)</th>\n",
       "      <th>gdp_per_capita ($)</th>\n",
       "      <th>generation</th>\n",
       "    </tr>\n",
       "    <tr>\n",
       "      <th>year</th>\n",
       "      <th></th>\n",
       "      <th></th>\n",
       "      <th></th>\n",
       "      <th></th>\n",
       "      <th></th>\n",
       "      <th></th>\n",
       "      <th></th>\n",
       "      <th></th>\n",
       "      <th></th>\n",
       "      <th></th>\n",
       "      <th></th>\n",
       "    </tr>\n",
       "  </thead>\n",
       "  <tbody>\n",
       "    <tr>\n",
       "      <th>1985</th>\n",
       "      <td>Saint Vincent and Grenadines</td>\n",
       "      <td>male</td>\n",
       "      <td>35-54 years</td>\n",
       "      <td>2</td>\n",
       "      <td>6100</td>\n",
       "      <td>32.79</td>\n",
       "      <td>Saint Vincent and Grenadines1985</td>\n",
       "      <td>NaN</td>\n",
       "      <td>145,641,704</td>\n",
       "      <td>1622</td>\n",
       "      <td>Silent</td>\n",
       "    </tr>\n",
       "    <tr>\n",
       "      <th>1985</th>\n",
       "      <td>Saint Vincent and Grenadines</td>\n",
       "      <td>female</td>\n",
       "      <td>55-74 years</td>\n",
       "      <td>0</td>\n",
       "      <td>4100</td>\n",
       "      <td>0.00</td>\n",
       "      <td>Saint Vincent and Grenadines1985</td>\n",
       "      <td>NaN</td>\n",
       "      <td>145,641,704</td>\n",
       "      <td>1622</td>\n",
       "      <td>G.I. Generation</td>\n",
       "    </tr>\n",
       "    <tr>\n",
       "      <th>1985</th>\n",
       "      <td>Saint Vincent and Grenadines</td>\n",
       "      <td>female</td>\n",
       "      <td>75+ years</td>\n",
       "      <td>0</td>\n",
       "      <td>1000</td>\n",
       "      <td>0.00</td>\n",
       "      <td>Saint Vincent and Grenadines1985</td>\n",
       "      <td>NaN</td>\n",
       "      <td>145,641,704</td>\n",
       "      <td>1622</td>\n",
       "      <td>G.I. Generation</td>\n",
       "    </tr>\n",
       "    <tr>\n",
       "      <th>1985</th>\n",
       "      <td>Saint Vincent and Grenadines</td>\n",
       "      <td>male</td>\n",
       "      <td>15-24 years</td>\n",
       "      <td>0</td>\n",
       "      <td>12100</td>\n",
       "      <td>0.00</td>\n",
       "      <td>Saint Vincent and Grenadines1985</td>\n",
       "      <td>NaN</td>\n",
       "      <td>145,641,704</td>\n",
       "      <td>1622</td>\n",
       "      <td>Generation X</td>\n",
       "    </tr>\n",
       "    <tr>\n",
       "      <th>1985</th>\n",
       "      <td>Saint Vincent and Grenadines</td>\n",
       "      <td>male</td>\n",
       "      <td>25-34 years</td>\n",
       "      <td>0</td>\n",
       "      <td>9300</td>\n",
       "      <td>0.00</td>\n",
       "      <td>Saint Vincent and Grenadines1985</td>\n",
       "      <td>NaN</td>\n",
       "      <td>145,641,704</td>\n",
       "      <td>1622</td>\n",
       "      <td>Boomers</td>\n",
       "    </tr>\n",
       "  </tbody>\n",
       "</table>\n",
       "</div>"
      ],
      "text/plain": [
       "                           country     sex          age  suicides_no  \\\n",
       "year                                                                   \n",
       "1985  Saint Vincent and Grenadines    male  35-54 years            2   \n",
       "1985  Saint Vincent and Grenadines  female  55-74 years            0   \n",
       "1985  Saint Vincent and Grenadines  female    75+ years            0   \n",
       "1985  Saint Vincent and Grenadines    male  15-24 years            0   \n",
       "1985  Saint Vincent and Grenadines    male  25-34 years            0   \n",
       "\n",
       "      population  suicides/100k pop                      country-year  \\\n",
       "year                                                                    \n",
       "1985        6100              32.79  Saint Vincent and Grenadines1985   \n",
       "1985        4100               0.00  Saint Vincent and Grenadines1985   \n",
       "1985        1000               0.00  Saint Vincent and Grenadines1985   \n",
       "1985       12100               0.00  Saint Vincent and Grenadines1985   \n",
       "1985        9300               0.00  Saint Vincent and Grenadines1985   \n",
       "\n",
       "      HDI for year gdp_for_year ($)  gdp_per_capita ($)       generation  \n",
       "year                                                                      \n",
       "1985           NaN      145,641,704                1622           Silent  \n",
       "1985           NaN      145,641,704                1622  G.I. Generation  \n",
       "1985           NaN      145,641,704                1622  G.I. Generation  \n",
       "1985           NaN      145,641,704                1622     Generation X  \n",
       "1985           NaN      145,641,704                1622          Boomers  "
      ]
     },
     "execution_count": 11,
     "metadata": {},
     "output_type": "execute_result"
    }
   ],
   "source": [
    "sr.head()"
   ]
  },
  {
   "cell_type": "code",
   "execution_count": 12,
   "id": "7f109be8",
   "metadata": {},
   "outputs": [
    {
     "data": {
      "text/plain": [
       "Int64Index([1985, 1986, 1987, 1988, 1989, 1990, 1991, 1992, 1993, 1994, 1995,\n",
       "            1996, 1997, 1998, 1999, 2000, 2001, 2002, 2003, 2004, 2005, 2006,\n",
       "            2007, 2008, 2009, 2010, 2011, 2012, 2013, 2014, 2015, 2016],\n",
       "           dtype='int64', name='year')"
      ]
     },
     "execution_count": 12,
     "metadata": {},
     "output_type": "execute_result"
    }
   ],
   "source": [
    "sr.index.unique()"
   ]
  },
  {
   "cell_type": "markdown",
   "id": "e2d682f0",
   "metadata": {},
   "source": [
    "The index has now been sorted."
   ]
  },
  {
   "cell_type": "code",
   "execution_count": 13,
   "id": "615db6eb",
   "metadata": {},
   "outputs": [
    {
     "data": {
      "text/plain": [
       "country                object\n",
       "sex                    object\n",
       "age                    object\n",
       "suicides_no             int64\n",
       "population              int64\n",
       "suicides/100k pop     float64\n",
       "country-year           object\n",
       "HDI for year          float64\n",
       "gdp_for_year ($)       object\n",
       "gdp_per_capita ($)      int64\n",
       "generation             object\n",
       "dtype: object"
      ]
     },
     "execution_count": 13,
     "metadata": {},
     "output_type": "execute_result"
    }
   ],
   "source": [
    "sr.dtypes"
   ]
  },
  {
   "cell_type": "markdown",
   "id": "76f23c7e",
   "metadata": {},
   "source": [
    "Upon printing the datatypes I realize that the gdp_for_year ($) column is an object. <br>\n",
    "This should be numerical since the column is for gdp.  I then change the column to numerical but first I remove the ',' from the values.<br>\n",
    "This is to make the column values to only contain numbers such that we are able to convert the object column into a numerical column without an error from pandas."
   ]
  },
  {
   "cell_type": "code",
   "execution_count": 14,
   "id": "28d7265b",
   "metadata": {},
   "outputs": [],
   "source": [
    "sr['gdp_for_year ($)'] = sr['gdp_for_year ($)'].str.replace(',', '')"
   ]
  },
  {
   "cell_type": "code",
   "execution_count": 15,
   "id": "dbee4d3d",
   "metadata": {},
   "outputs": [
    {
     "data": {
      "text/html": [
       "<div>\n",
       "<style scoped>\n",
       "    .dataframe tbody tr th:only-of-type {\n",
       "        vertical-align: middle;\n",
       "    }\n",
       "\n",
       "    .dataframe tbody tr th {\n",
       "        vertical-align: top;\n",
       "    }\n",
       "\n",
       "    .dataframe thead th {\n",
       "        text-align: right;\n",
       "    }\n",
       "</style>\n",
       "<table border=\"1\" class=\"dataframe\">\n",
       "  <thead>\n",
       "    <tr style=\"text-align: right;\">\n",
       "      <th></th>\n",
       "      <th>country</th>\n",
       "      <th>sex</th>\n",
       "      <th>age</th>\n",
       "      <th>suicides_no</th>\n",
       "      <th>population</th>\n",
       "      <th>suicides/100k pop</th>\n",
       "      <th>country-year</th>\n",
       "      <th>HDI for year</th>\n",
       "      <th>gdp_for_year ($)</th>\n",
       "      <th>gdp_per_capita ($)</th>\n",
       "      <th>generation</th>\n",
       "    </tr>\n",
       "    <tr>\n",
       "      <th>year</th>\n",
       "      <th></th>\n",
       "      <th></th>\n",
       "      <th></th>\n",
       "      <th></th>\n",
       "      <th></th>\n",
       "      <th></th>\n",
       "      <th></th>\n",
       "      <th></th>\n",
       "      <th></th>\n",
       "      <th></th>\n",
       "      <th></th>\n",
       "    </tr>\n",
       "  </thead>\n",
       "  <tbody>\n",
       "    <tr>\n",
       "      <th>1985</th>\n",
       "      <td>Saint Vincent and Grenadines</td>\n",
       "      <td>male</td>\n",
       "      <td>35-54 years</td>\n",
       "      <td>2</td>\n",
       "      <td>6100</td>\n",
       "      <td>32.79</td>\n",
       "      <td>Saint Vincent and Grenadines1985</td>\n",
       "      <td>NaN</td>\n",
       "      <td>145641704</td>\n",
       "      <td>1622</td>\n",
       "      <td>Silent</td>\n",
       "    </tr>\n",
       "    <tr>\n",
       "      <th>1985</th>\n",
       "      <td>Saint Vincent and Grenadines</td>\n",
       "      <td>female</td>\n",
       "      <td>55-74 years</td>\n",
       "      <td>0</td>\n",
       "      <td>4100</td>\n",
       "      <td>0.00</td>\n",
       "      <td>Saint Vincent and Grenadines1985</td>\n",
       "      <td>NaN</td>\n",
       "      <td>145641704</td>\n",
       "      <td>1622</td>\n",
       "      <td>G.I. Generation</td>\n",
       "    </tr>\n",
       "    <tr>\n",
       "      <th>1985</th>\n",
       "      <td>Saint Vincent and Grenadines</td>\n",
       "      <td>female</td>\n",
       "      <td>75+ years</td>\n",
       "      <td>0</td>\n",
       "      <td>1000</td>\n",
       "      <td>0.00</td>\n",
       "      <td>Saint Vincent and Grenadines1985</td>\n",
       "      <td>NaN</td>\n",
       "      <td>145641704</td>\n",
       "      <td>1622</td>\n",
       "      <td>G.I. Generation</td>\n",
       "    </tr>\n",
       "    <tr>\n",
       "      <th>1985</th>\n",
       "      <td>Saint Vincent and Grenadines</td>\n",
       "      <td>male</td>\n",
       "      <td>15-24 years</td>\n",
       "      <td>0</td>\n",
       "      <td>12100</td>\n",
       "      <td>0.00</td>\n",
       "      <td>Saint Vincent and Grenadines1985</td>\n",
       "      <td>NaN</td>\n",
       "      <td>145641704</td>\n",
       "      <td>1622</td>\n",
       "      <td>Generation X</td>\n",
       "    </tr>\n",
       "    <tr>\n",
       "      <th>1985</th>\n",
       "      <td>Saint Vincent and Grenadines</td>\n",
       "      <td>male</td>\n",
       "      <td>25-34 years</td>\n",
       "      <td>0</td>\n",
       "      <td>9300</td>\n",
       "      <td>0.00</td>\n",
       "      <td>Saint Vincent and Grenadines1985</td>\n",
       "      <td>NaN</td>\n",
       "      <td>145641704</td>\n",
       "      <td>1622</td>\n",
       "      <td>Boomers</td>\n",
       "    </tr>\n",
       "  </tbody>\n",
       "</table>\n",
       "</div>"
      ],
      "text/plain": [
       "                           country     sex          age  suicides_no  \\\n",
       "year                                                                   \n",
       "1985  Saint Vincent and Grenadines    male  35-54 years            2   \n",
       "1985  Saint Vincent and Grenadines  female  55-74 years            0   \n",
       "1985  Saint Vincent and Grenadines  female    75+ years            0   \n",
       "1985  Saint Vincent and Grenadines    male  15-24 years            0   \n",
       "1985  Saint Vincent and Grenadines    male  25-34 years            0   \n",
       "\n",
       "      population  suicides/100k pop                      country-year  \\\n",
       "year                                                                    \n",
       "1985        6100              32.79  Saint Vincent and Grenadines1985   \n",
       "1985        4100               0.00  Saint Vincent and Grenadines1985   \n",
       "1985        1000               0.00  Saint Vincent and Grenadines1985   \n",
       "1985       12100               0.00  Saint Vincent and Grenadines1985   \n",
       "1985        9300               0.00  Saint Vincent and Grenadines1985   \n",
       "\n",
       "      HDI for year gdp_for_year ($)  gdp_per_capita ($)       generation  \n",
       "year                                                                      \n",
       "1985           NaN        145641704                1622           Silent  \n",
       "1985           NaN        145641704                1622  G.I. Generation  \n",
       "1985           NaN        145641704                1622  G.I. Generation  \n",
       "1985           NaN        145641704                1622     Generation X  \n",
       "1985           NaN        145641704                1622          Boomers  "
      ]
     },
     "execution_count": 15,
     "metadata": {},
     "output_type": "execute_result"
    }
   ],
   "source": [
    "sr.head()"
   ]
  },
  {
   "cell_type": "code",
   "execution_count": 16,
   "id": "cf59308d",
   "metadata": {},
   "outputs": [],
   "source": [
    "sr['gdp_for_year ($)'] = sr['gdp_for_year ($)'].astype('int64')"
   ]
  },
  {
   "cell_type": "code",
   "execution_count": 17,
   "id": "df2f2ff7",
   "metadata": {},
   "outputs": [
    {
     "data": {
      "text/plain": [
       "country                object\n",
       "sex                    object\n",
       "age                    object\n",
       "suicides_no             int64\n",
       "population              int64\n",
       "suicides/100k pop     float64\n",
       "country-year           object\n",
       "HDI for year          float64\n",
       "gdp_for_year ($)        int64\n",
       "gdp_per_capita ($)      int64\n",
       "generation             object\n",
       "dtype: object"
      ]
     },
     "execution_count": 17,
     "metadata": {},
     "output_type": "execute_result"
    }
   ],
   "source": [
    "sr.dtypes"
   ]
  },
  {
   "cell_type": "markdown",
   "id": "67364947",
   "metadata": {},
   "source": [
    "The column is now in int64.<br>\n",
    "The sex and the age columns need to be changed into categorical values.  This is because all their possible values fall into a finite number of groups as per our dataset."
   ]
  },
  {
   "cell_type": "code",
   "execution_count": 18,
   "id": "6a43b573",
   "metadata": {},
   "outputs": [],
   "source": [
    "sr = sr.assign(\n",
    "    sex=lambda x: x.sex.astype('category'),\n",
    "    age=lambda x: x.age.astype('category')\n",
    ")"
   ]
  },
  {
   "cell_type": "code",
   "execution_count": 19,
   "id": "53766682",
   "metadata": {},
   "outputs": [
    {
     "data": {
      "text/plain": [
       "country                 object\n",
       "sex                   category\n",
       "age                   category\n",
       "suicides_no              int64\n",
       "population               int64\n",
       "suicides/100k pop      float64\n",
       "country-year            object\n",
       "HDI for year           float64\n",
       "gdp_for_year ($)         int64\n",
       "gdp_per_capita ($)       int64\n",
       "generation              object\n",
       "dtype: object"
      ]
     },
     "execution_count": 19,
     "metadata": {},
     "output_type": "execute_result"
    }
   ],
   "source": [
    "sr.dtypes"
   ]
  },
  {
   "cell_type": "code",
   "execution_count": 20,
   "id": "ab4e021d",
   "metadata": {},
   "outputs": [
    {
     "data": {
      "text/plain": [
       "count      27820\n",
       "unique         2\n",
       "top       female\n",
       "freq       13910\n",
       "Name: sex, dtype: object"
      ]
     },
     "execution_count": 20,
     "metadata": {},
     "output_type": "execute_result"
    }
   ],
   "source": [
    "sr.sex.describe()"
   ]
  },
  {
   "cell_type": "code",
   "execution_count": 21,
   "id": "ba402d80",
   "metadata": {},
   "outputs": [
    {
     "data": {
      "text/plain": [
       "count           27820\n",
       "unique              6\n",
       "top       15-24 years\n",
       "freq             4642\n",
       "Name: age, dtype: object"
      ]
     },
     "execution_count": 21,
     "metadata": {},
     "output_type": "execute_result"
    }
   ],
   "source": [
    "sr.age.describe()"
   ]
  },
  {
   "cell_type": "markdown",
   "id": "c1296398",
   "metadata": {},
   "source": [
    "All the columns are now in the appropriate data types.  The sex columns has 2 unique values (male and female).<br>\n",
    "The age given by our dataframe is in 6 groups/categories.  The top category is 15-24 years."
   ]
  },
  {
   "cell_type": "code",
   "execution_count": 22,
   "id": "4ce41d38",
   "metadata": {},
   "outputs": [
    {
     "name": "stdout",
     "output_type": "stream",
     "text": [
      "<class 'pandas.core.frame.DataFrame'>\n",
      "Int64Index: 27820 entries, 1985 to 2016\n",
      "Data columns (total 11 columns):\n",
      " #   Column              Non-Null Count  Dtype   \n",
      "---  ------              --------------  -----   \n",
      " 0   country             27820 non-null  object  \n",
      " 1   sex                 27820 non-null  category\n",
      " 2   age                 27820 non-null  category\n",
      " 3   suicides_no         27820 non-null  int64   \n",
      " 4   population          27820 non-null  int64   \n",
      " 5   suicides/100k pop   27820 non-null  float64 \n",
      " 6   country-year        27820 non-null  object  \n",
      " 7   HDI for year        8364 non-null   float64 \n",
      " 8   gdp_for_year ($)    27820 non-null  int64   \n",
      " 9   gdp_per_capita ($)  27820 non-null  int64   \n",
      " 10  generation          27820 non-null  object  \n",
      "dtypes: category(2), float64(2), int64(4), object(3)\n",
      "memory usage: 3.2+ MB\n"
     ]
    }
   ],
   "source": [
    "sr.info()"
   ]
  },
  {
   "cell_type": "markdown",
   "id": "993d7388",
   "metadata": {},
   "source": [
    "The column HDI for year contains (27820 - 8364) null values.  These null values are way too many so I decide to drop this column."
   ]
  },
  {
   "cell_type": "code",
   "execution_count": 23,
   "id": "63749a72",
   "metadata": {},
   "outputs": [
    {
     "data": {
      "text/html": [
       "<div>\n",
       "<style scoped>\n",
       "    .dataframe tbody tr th:only-of-type {\n",
       "        vertical-align: middle;\n",
       "    }\n",
       "\n",
       "    .dataframe tbody tr th {\n",
       "        vertical-align: top;\n",
       "    }\n",
       "\n",
       "    .dataframe thead th {\n",
       "        text-align: right;\n",
       "    }\n",
       "</style>\n",
       "<table border=\"1\" class=\"dataframe\">\n",
       "  <thead>\n",
       "    <tr style=\"text-align: right;\">\n",
       "      <th></th>\n",
       "      <th>country</th>\n",
       "      <th>sex</th>\n",
       "      <th>age</th>\n",
       "      <th>suicides_no</th>\n",
       "      <th>population</th>\n",
       "      <th>suicides/100k pop</th>\n",
       "      <th>country-year</th>\n",
       "      <th>HDI for year</th>\n",
       "      <th>gdp_for_year ($)</th>\n",
       "      <th>gdp_per_capita ($)</th>\n",
       "      <th>generation</th>\n",
       "    </tr>\n",
       "    <tr>\n",
       "      <th>year</th>\n",
       "      <th></th>\n",
       "      <th></th>\n",
       "      <th></th>\n",
       "      <th></th>\n",
       "      <th></th>\n",
       "      <th></th>\n",
       "      <th></th>\n",
       "      <th></th>\n",
       "      <th></th>\n",
       "      <th></th>\n",
       "      <th></th>\n",
       "    </tr>\n",
       "  </thead>\n",
       "  <tbody>\n",
       "    <tr>\n",
       "      <th>1985</th>\n",
       "      <td>Saint Vincent and Grenadines</td>\n",
       "      <td>male</td>\n",
       "      <td>35-54 years</td>\n",
       "      <td>2</td>\n",
       "      <td>6100</td>\n",
       "      <td>32.79</td>\n",
       "      <td>Saint Vincent and Grenadines1985</td>\n",
       "      <td>NaN</td>\n",
       "      <td>145641704</td>\n",
       "      <td>1622</td>\n",
       "      <td>Silent</td>\n",
       "    </tr>\n",
       "    <tr>\n",
       "      <th>1985</th>\n",
       "      <td>Saint Vincent and Grenadines</td>\n",
       "      <td>female</td>\n",
       "      <td>55-74 years</td>\n",
       "      <td>0</td>\n",
       "      <td>4100</td>\n",
       "      <td>0.00</td>\n",
       "      <td>Saint Vincent and Grenadines1985</td>\n",
       "      <td>NaN</td>\n",
       "      <td>145641704</td>\n",
       "      <td>1622</td>\n",
       "      <td>G.I. Generation</td>\n",
       "    </tr>\n",
       "    <tr>\n",
       "      <th>1985</th>\n",
       "      <td>Saint Vincent and Grenadines</td>\n",
       "      <td>female</td>\n",
       "      <td>75+ years</td>\n",
       "      <td>0</td>\n",
       "      <td>1000</td>\n",
       "      <td>0.00</td>\n",
       "      <td>Saint Vincent and Grenadines1985</td>\n",
       "      <td>NaN</td>\n",
       "      <td>145641704</td>\n",
       "      <td>1622</td>\n",
       "      <td>G.I. Generation</td>\n",
       "    </tr>\n",
       "    <tr>\n",
       "      <th>1985</th>\n",
       "      <td>Saint Vincent and Grenadines</td>\n",
       "      <td>male</td>\n",
       "      <td>15-24 years</td>\n",
       "      <td>0</td>\n",
       "      <td>12100</td>\n",
       "      <td>0.00</td>\n",
       "      <td>Saint Vincent and Grenadines1985</td>\n",
       "      <td>NaN</td>\n",
       "      <td>145641704</td>\n",
       "      <td>1622</td>\n",
       "      <td>Generation X</td>\n",
       "    </tr>\n",
       "    <tr>\n",
       "      <th>1985</th>\n",
       "      <td>Saint Vincent and Grenadines</td>\n",
       "      <td>male</td>\n",
       "      <td>25-34 years</td>\n",
       "      <td>0</td>\n",
       "      <td>9300</td>\n",
       "      <td>0.00</td>\n",
       "      <td>Saint Vincent and Grenadines1985</td>\n",
       "      <td>NaN</td>\n",
       "      <td>145641704</td>\n",
       "      <td>1622</td>\n",
       "      <td>Boomers</td>\n",
       "    </tr>\n",
       "  </tbody>\n",
       "</table>\n",
       "</div>"
      ],
      "text/plain": [
       "                           country     sex          age  suicides_no  \\\n",
       "year                                                                   \n",
       "1985  Saint Vincent and Grenadines    male  35-54 years            2   \n",
       "1985  Saint Vincent and Grenadines  female  55-74 years            0   \n",
       "1985  Saint Vincent and Grenadines  female    75+ years            0   \n",
       "1985  Saint Vincent and Grenadines    male  15-24 years            0   \n",
       "1985  Saint Vincent and Grenadines    male  25-34 years            0   \n",
       "\n",
       "      population  suicides/100k pop                      country-year  \\\n",
       "year                                                                    \n",
       "1985        6100              32.79  Saint Vincent and Grenadines1985   \n",
       "1985        4100               0.00  Saint Vincent and Grenadines1985   \n",
       "1985        1000               0.00  Saint Vincent and Grenadines1985   \n",
       "1985       12100               0.00  Saint Vincent and Grenadines1985   \n",
       "1985        9300               0.00  Saint Vincent and Grenadines1985   \n",
       "\n",
       "      HDI for year  gdp_for_year ($)  gdp_per_capita ($)       generation  \n",
       "year                                                                       \n",
       "1985           NaN         145641704                1622           Silent  \n",
       "1985           NaN         145641704                1622  G.I. Generation  \n",
       "1985           NaN         145641704                1622  G.I. Generation  \n",
       "1985           NaN         145641704                1622     Generation X  \n",
       "1985           NaN         145641704                1622          Boomers  "
      ]
     },
     "execution_count": 23,
     "metadata": {},
     "output_type": "execute_result"
    }
   ],
   "source": [
    "sr.head()"
   ]
  },
  {
   "cell_type": "code",
   "execution_count": 24,
   "id": "e62a1ea7",
   "metadata": {},
   "outputs": [],
   "source": [
    "sr.dropna(axis=1, inplace=True)"
   ]
  },
  {
   "cell_type": "code",
   "execution_count": 25,
   "id": "51d8344e",
   "metadata": {},
   "outputs": [
    {
     "name": "stdout",
     "output_type": "stream",
     "text": [
      "<class 'pandas.core.frame.DataFrame'>\n",
      "Int64Index: 27820 entries, 1985 to 2016\n",
      "Data columns (total 10 columns):\n",
      " #   Column              Non-Null Count  Dtype   \n",
      "---  ------              --------------  -----   \n",
      " 0   country             27820 non-null  object  \n",
      " 1   sex                 27820 non-null  category\n",
      " 2   age                 27820 non-null  category\n",
      " 3   suicides_no         27820 non-null  int64   \n",
      " 4   population          27820 non-null  int64   \n",
      " 5   suicides/100k pop   27820 non-null  float64 \n",
      " 6   country-year        27820 non-null  object  \n",
      " 7   gdp_for_year ($)    27820 non-null  int64   \n",
      " 8   gdp_per_capita ($)  27820 non-null  int64   \n",
      " 9   generation          27820 non-null  object  \n",
      "dtypes: category(2), float64(1), int64(4), object(3)\n",
      "memory usage: 3.0+ MB\n"
     ]
    }
   ],
   "source": [
    "sr.info()"
   ]
  },
  {
   "cell_type": "markdown",
   "id": "c0c6b324",
   "metadata": {},
   "source": [
    "Our dataframe no longer contains null values."
   ]
  },
  {
   "cell_type": "code",
   "execution_count": 26,
   "id": "3d2a713d",
   "metadata": {},
   "outputs": [
    {
     "data": {
      "text/plain": [
       "101"
      ]
     },
     "execution_count": 26,
     "metadata": {},
     "output_type": "execute_result"
    }
   ],
   "source": [
    "len(sr.country.value_counts())"
   ]
  },
  {
   "cell_type": "code",
   "execution_count": 27,
   "id": "d07ef7b8",
   "metadata": {},
   "outputs": [
    {
     "data": {
      "text/plain": [
       "array(['Saint Vincent and Grenadines', 'Seychelles', 'Singapore',\n",
       "       'Greece', 'France', 'Austria', 'Dominica', 'Spain', 'Sri Lanka',\n",
       "       'Ecuador', 'Grenada', 'Ireland', 'Portugal', 'Argentina', 'Italy',\n",
       "       'Israel', 'Puerto Rico', 'Republic of Korea', 'Iceland',\n",
       "       'Costa Rica', 'Belgium', 'Barbados', 'Bahrain',\n",
       "       'Trinidad and Tobago', 'Australia', 'United Kingdom',\n",
       "       'United States', 'Bahamas', 'Brazil', 'Uruguay', 'Colombia',\n",
       "       'Chile', 'Suriname', 'Bulgaria', 'Thailand', 'Canada',\n",
       "       'Antigua and Barbuda', 'Malta', 'Kuwait', 'Jamaica', 'Panama',\n",
       "       'Paraguay', 'Japan', 'New Zealand', 'Mauritius', 'Mexico',\n",
       "       'Luxembourg', 'Netherlands', 'Norway', 'Belize', 'Saint Lucia',\n",
       "       'Guatemala', 'Turkmenistan', 'Ukraine', 'Finland', 'Sweden',\n",
       "       'Albania', 'Guyana', 'Russian Federation', 'Romania', 'Germany',\n",
       "       'Poland', 'Uzbekistan', 'Georgia', 'Kyrgyzstan', 'Czech Republic',\n",
       "       'Azerbaijan', 'Belarus', 'Saint Kitts and Nevis', 'El Salvador',\n",
       "       'Armenia', 'Kazakhstan', 'Kiribati', 'Hungary', 'Cuba', 'Slovakia',\n",
       "       'Philippines', 'Denmark', 'Macau', 'Switzerland', 'Lithuania',\n",
       "       'Aruba', 'Latvia', 'Slovenia', 'Estonia', 'Croatia', 'Qatar',\n",
       "       'South Africa', 'Serbia', 'San Marino', 'Cyprus', 'Maldives',\n",
       "       'Montenegro', 'Fiji', 'United Arab Emirates', 'Turkey', 'Oman',\n",
       "       'Nicaragua', 'Bosnia and Herzegovina', 'Cabo Verde', 'Mongolia'],\n",
       "      dtype=object)"
      ]
     },
     "execution_count": 27,
     "metadata": {},
     "output_type": "execute_result"
    }
   ],
   "source": [
    "sr.country.unique()"
   ]
  },
  {
   "cell_type": "markdown",
   "id": "403cb8a0",
   "metadata": {},
   "source": [
    "Our dataset contains data about suicides for 101 different countries."
   ]
  },
  {
   "cell_type": "code",
   "execution_count": 28,
   "id": "168c615a",
   "metadata": {},
   "outputs": [
    {
     "data": {
      "text/html": [
       "<div>\n",
       "<style scoped>\n",
       "    .dataframe tbody tr th:only-of-type {\n",
       "        vertical-align: middle;\n",
       "    }\n",
       "\n",
       "    .dataframe tbody tr th {\n",
       "        vertical-align: top;\n",
       "    }\n",
       "\n",
       "    .dataframe thead th {\n",
       "        text-align: right;\n",
       "    }\n",
       "</style>\n",
       "<table border=\"1\" class=\"dataframe\">\n",
       "  <thead>\n",
       "    <tr style=\"text-align: right;\">\n",
       "      <th></th>\n",
       "      <th>country</th>\n",
       "      <th>sex</th>\n",
       "      <th>age</th>\n",
       "      <th>suicides_no</th>\n",
       "      <th>population</th>\n",
       "      <th>suicides/100k pop</th>\n",
       "      <th>country-year</th>\n",
       "      <th>gdp_for_year ($)</th>\n",
       "      <th>gdp_per_capita ($)</th>\n",
       "      <th>generation</th>\n",
       "    </tr>\n",
       "    <tr>\n",
       "      <th>year</th>\n",
       "      <th></th>\n",
       "      <th></th>\n",
       "      <th></th>\n",
       "      <th></th>\n",
       "      <th></th>\n",
       "      <th></th>\n",
       "      <th></th>\n",
       "      <th></th>\n",
       "      <th></th>\n",
       "      <th></th>\n",
       "    </tr>\n",
       "  </thead>\n",
       "  <tbody>\n",
       "    <tr>\n",
       "      <th>1985</th>\n",
       "      <td>Saint Vincent and Grenadines</td>\n",
       "      <td>male</td>\n",
       "      <td>35-54 years</td>\n",
       "      <td>2</td>\n",
       "      <td>6100</td>\n",
       "      <td>32.79</td>\n",
       "      <td>Saint Vincent and Grenadines1985</td>\n",
       "      <td>145641704</td>\n",
       "      <td>1622</td>\n",
       "      <td>Silent</td>\n",
       "    </tr>\n",
       "    <tr>\n",
       "      <th>1985</th>\n",
       "      <td>Saint Vincent and Grenadines</td>\n",
       "      <td>female</td>\n",
       "      <td>55-74 years</td>\n",
       "      <td>0</td>\n",
       "      <td>4100</td>\n",
       "      <td>0.00</td>\n",
       "      <td>Saint Vincent and Grenadines1985</td>\n",
       "      <td>145641704</td>\n",
       "      <td>1622</td>\n",
       "      <td>G.I. Generation</td>\n",
       "    </tr>\n",
       "    <tr>\n",
       "      <th>1985</th>\n",
       "      <td>Saint Vincent and Grenadines</td>\n",
       "      <td>female</td>\n",
       "      <td>75+ years</td>\n",
       "      <td>0</td>\n",
       "      <td>1000</td>\n",
       "      <td>0.00</td>\n",
       "      <td>Saint Vincent and Grenadines1985</td>\n",
       "      <td>145641704</td>\n",
       "      <td>1622</td>\n",
       "      <td>G.I. Generation</td>\n",
       "    </tr>\n",
       "    <tr>\n",
       "      <th>1985</th>\n",
       "      <td>Saint Vincent and Grenadines</td>\n",
       "      <td>male</td>\n",
       "      <td>15-24 years</td>\n",
       "      <td>0</td>\n",
       "      <td>12100</td>\n",
       "      <td>0.00</td>\n",
       "      <td>Saint Vincent and Grenadines1985</td>\n",
       "      <td>145641704</td>\n",
       "      <td>1622</td>\n",
       "      <td>Generation X</td>\n",
       "    </tr>\n",
       "    <tr>\n",
       "      <th>1985</th>\n",
       "      <td>Saint Vincent and Grenadines</td>\n",
       "      <td>male</td>\n",
       "      <td>25-34 years</td>\n",
       "      <td>0</td>\n",
       "      <td>9300</td>\n",
       "      <td>0.00</td>\n",
       "      <td>Saint Vincent and Grenadines1985</td>\n",
       "      <td>145641704</td>\n",
       "      <td>1622</td>\n",
       "      <td>Boomers</td>\n",
       "    </tr>\n",
       "  </tbody>\n",
       "</table>\n",
       "</div>"
      ],
      "text/plain": [
       "                           country     sex          age  suicides_no  \\\n",
       "year                                                                   \n",
       "1985  Saint Vincent and Grenadines    male  35-54 years            2   \n",
       "1985  Saint Vincent and Grenadines  female  55-74 years            0   \n",
       "1985  Saint Vincent and Grenadines  female    75+ years            0   \n",
       "1985  Saint Vincent and Grenadines    male  15-24 years            0   \n",
       "1985  Saint Vincent and Grenadines    male  25-34 years            0   \n",
       "\n",
       "      population  suicides/100k pop                      country-year  \\\n",
       "year                                                                    \n",
       "1985        6100              32.79  Saint Vincent and Grenadines1985   \n",
       "1985        4100               0.00  Saint Vincent and Grenadines1985   \n",
       "1985        1000               0.00  Saint Vincent and Grenadines1985   \n",
       "1985       12100               0.00  Saint Vincent and Grenadines1985   \n",
       "1985        9300               0.00  Saint Vincent and Grenadines1985   \n",
       "\n",
       "      gdp_for_year ($)  gdp_per_capita ($)       generation  \n",
       "year                                                         \n",
       "1985         145641704                1622           Silent  \n",
       "1985         145641704                1622  G.I. Generation  \n",
       "1985         145641704                1622  G.I. Generation  \n",
       "1985         145641704                1622     Generation X  \n",
       "1985         145641704                1622          Boomers  "
      ]
     },
     "execution_count": 28,
     "metadata": {},
     "output_type": "execute_result"
    }
   ],
   "source": [
    "sr.head()"
   ]
  },
  {
   "cell_type": "code",
   "execution_count": 29,
   "id": "0f8cae7f",
   "metadata": {},
   "outputs": [],
   "source": [
    "sr['suicides_rate'] = pd.cut(\n",
    "    sr['suicides_no'], bins=3, labels=['low', 'med', 'high']\n",
    ")"
   ]
  },
  {
   "cell_type": "markdown",
   "id": "18d25ff8",
   "metadata": {},
   "source": [
    "I use the pd.cut method to put the suicides_no variable into bins.<br>\n",
    "We can now see which countries have the highest number of suicides per particular year using different age groups and sex."
   ]
  },
  {
   "cell_type": "code",
   "execution_count": 30,
   "id": "c20665b9",
   "metadata": {},
   "outputs": [
    {
     "data": {
      "text/html": [
       "<div>\n",
       "<style scoped>\n",
       "    .dataframe tbody tr th:only-of-type {\n",
       "        vertical-align: middle;\n",
       "    }\n",
       "\n",
       "    .dataframe tbody tr th {\n",
       "        vertical-align: top;\n",
       "    }\n",
       "\n",
       "    .dataframe thead th {\n",
       "        text-align: right;\n",
       "    }\n",
       "</style>\n",
       "<table border=\"1\" class=\"dataframe\">\n",
       "  <thead>\n",
       "    <tr style=\"text-align: right;\">\n",
       "      <th></th>\n",
       "      <th>country</th>\n",
       "      <th>sex</th>\n",
       "      <th>age</th>\n",
       "      <th>suicides_no</th>\n",
       "      <th>population</th>\n",
       "      <th>suicides/100k pop</th>\n",
       "      <th>country-year</th>\n",
       "      <th>gdp_for_year ($)</th>\n",
       "      <th>gdp_per_capita ($)</th>\n",
       "      <th>generation</th>\n",
       "      <th>suicides_rate</th>\n",
       "    </tr>\n",
       "    <tr>\n",
       "      <th>year</th>\n",
       "      <th></th>\n",
       "      <th></th>\n",
       "      <th></th>\n",
       "      <th></th>\n",
       "      <th></th>\n",
       "      <th></th>\n",
       "      <th></th>\n",
       "      <th></th>\n",
       "      <th></th>\n",
       "      <th></th>\n",
       "      <th></th>\n",
       "    </tr>\n",
       "  </thead>\n",
       "  <tbody>\n",
       "    <tr>\n",
       "      <th>1992</th>\n",
       "      <td>Russian Federation</td>\n",
       "      <td>male</td>\n",
       "      <td>35-54 years</td>\n",
       "      <td>15824</td>\n",
       "      <td>18933500</td>\n",
       "      <td>83.58</td>\n",
       "      <td>Russian Federation1992</td>\n",
       "      <td>460290556901</td>\n",
       "      <td>3333</td>\n",
       "      <td>Boomers</td>\n",
       "      <td>high</td>\n",
       "    </tr>\n",
       "    <tr>\n",
       "      <th>1993</th>\n",
       "      <td>Russian Federation</td>\n",
       "      <td>male</td>\n",
       "      <td>35-54 years</td>\n",
       "      <td>20256</td>\n",
       "      <td>18908000</td>\n",
       "      <td>107.13</td>\n",
       "      <td>Russian Federation1993</td>\n",
       "      <td>435083713851</td>\n",
       "      <td>3160</td>\n",
       "      <td>Boomers</td>\n",
       "      <td>high</td>\n",
       "    </tr>\n",
       "    <tr>\n",
       "      <th>1994</th>\n",
       "      <td>Russian Federation</td>\n",
       "      <td>male</td>\n",
       "      <td>35-54 years</td>\n",
       "      <td>22338</td>\n",
       "      <td>19044200</td>\n",
       "      <td>117.30</td>\n",
       "      <td>Russian Federation1994</td>\n",
       "      <td>395077301248</td>\n",
       "      <td>2853</td>\n",
       "      <td>Boomers</td>\n",
       "      <td>high</td>\n",
       "    </tr>\n",
       "    <tr>\n",
       "      <th>1995</th>\n",
       "      <td>Russian Federation</td>\n",
       "      <td>male</td>\n",
       "      <td>35-54 years</td>\n",
       "      <td>21706</td>\n",
       "      <td>19249600</td>\n",
       "      <td>112.76</td>\n",
       "      <td>Russian Federation1995</td>\n",
       "      <td>395531066563</td>\n",
       "      <td>2844</td>\n",
       "      <td>Boomers</td>\n",
       "      <td>high</td>\n",
       "    </tr>\n",
       "    <tr>\n",
       "      <th>1996</th>\n",
       "      <td>Russian Federation</td>\n",
       "      <td>male</td>\n",
       "      <td>35-54 years</td>\n",
       "      <td>20562</td>\n",
       "      <td>19507100</td>\n",
       "      <td>105.41</td>\n",
       "      <td>Russian Federation1996</td>\n",
       "      <td>391719993757</td>\n",
       "      <td>2813</td>\n",
       "      <td>Boomers</td>\n",
       "      <td>high</td>\n",
       "    </tr>\n",
       "    <tr>\n",
       "      <th>1997</th>\n",
       "      <td>Russian Federation</td>\n",
       "      <td>male</td>\n",
       "      <td>35-54 years</td>\n",
       "      <td>18973</td>\n",
       "      <td>19913400</td>\n",
       "      <td>95.28</td>\n",
       "      <td>Russian Federation1997</td>\n",
       "      <td>404926534140</td>\n",
       "      <td>2907</td>\n",
       "      <td>Boomers</td>\n",
       "      <td>high</td>\n",
       "    </tr>\n",
       "    <tr>\n",
       "      <th>1998</th>\n",
       "      <td>Russian Federation</td>\n",
       "      <td>male</td>\n",
       "      <td>35-54 years</td>\n",
       "      <td>18058</td>\n",
       "      <td>20487900</td>\n",
       "      <td>88.14</td>\n",
       "      <td>Russian Federation1998</td>\n",
       "      <td>270953116950</td>\n",
       "      <td>1948</td>\n",
       "      <td>Boomers</td>\n",
       "      <td>high</td>\n",
       "    </tr>\n",
       "    <tr>\n",
       "      <th>1999</th>\n",
       "      <td>Russian Federation</td>\n",
       "      <td>male</td>\n",
       "      <td>35-54 years</td>\n",
       "      <td>20705</td>\n",
       "      <td>21016400</td>\n",
       "      <td>98.52</td>\n",
       "      <td>Russian Federation1999</td>\n",
       "      <td>195905767669</td>\n",
       "      <td>1412</td>\n",
       "      <td>Boomers</td>\n",
       "      <td>high</td>\n",
       "    </tr>\n",
       "    <tr>\n",
       "      <th>2000</th>\n",
       "      <td>Russian Federation</td>\n",
       "      <td>male</td>\n",
       "      <td>35-54 years</td>\n",
       "      <td>21063</td>\n",
       "      <td>21378098</td>\n",
       "      <td>98.53</td>\n",
       "      <td>Russian Federation2000</td>\n",
       "      <td>259708496267</td>\n",
       "      <td>1879</td>\n",
       "      <td>Boomers</td>\n",
       "      <td>high</td>\n",
       "    </tr>\n",
       "    <tr>\n",
       "      <th>2001</th>\n",
       "      <td>Russian Federation</td>\n",
       "      <td>male</td>\n",
       "      <td>35-54 years</td>\n",
       "      <td>21262</td>\n",
       "      <td>21476420</td>\n",
       "      <td>99.00</td>\n",
       "      <td>Russian Federation2001</td>\n",
       "      <td>306602673980</td>\n",
       "      <td>2229</td>\n",
       "      <td>Boomers</td>\n",
       "      <td>high</td>\n",
       "    </tr>\n",
       "    <tr>\n",
       "      <th>2002</th>\n",
       "      <td>Russian Federation</td>\n",
       "      <td>male</td>\n",
       "      <td>35-54 years</td>\n",
       "      <td>20119</td>\n",
       "      <td>21320535</td>\n",
       "      <td>94.36</td>\n",
       "      <td>Russian Federation2002</td>\n",
       "      <td>345110438692</td>\n",
       "      <td>2527</td>\n",
       "      <td>Boomers</td>\n",
       "      <td>high</td>\n",
       "    </tr>\n",
       "    <tr>\n",
       "      <th>2003</th>\n",
       "      <td>Russian Federation</td>\n",
       "      <td>male</td>\n",
       "      <td>35-54 years</td>\n",
       "      <td>18681</td>\n",
       "      <td>21007346</td>\n",
       "      <td>88.93</td>\n",
       "      <td>Russian Federation2003</td>\n",
       "      <td>430347770732</td>\n",
       "      <td>3141</td>\n",
       "      <td>Boomers</td>\n",
       "      <td>high</td>\n",
       "    </tr>\n",
       "    <tr>\n",
       "      <th>2004</th>\n",
       "      <td>Russian Federation</td>\n",
       "      <td>male</td>\n",
       "      <td>35-54 years</td>\n",
       "      <td>17465</td>\n",
       "      <td>20843896</td>\n",
       "      <td>83.79</td>\n",
       "      <td>Russian Federation2004</td>\n",
       "      <td>591016690743</td>\n",
       "      <td>4312</td>\n",
       "      <td>Boomers</td>\n",
       "      <td>high</td>\n",
       "    </tr>\n",
       "    <tr>\n",
       "      <th>2005</th>\n",
       "      <td>Russian Federation</td>\n",
       "      <td>male</td>\n",
       "      <td>35-54 years</td>\n",
       "      <td>15843</td>\n",
       "      <td>20550405</td>\n",
       "      <td>77.09</td>\n",
       "      <td>Russian Federation2005</td>\n",
       "      <td>764017107992</td>\n",
       "      <td>5611</td>\n",
       "      <td>Boomers</td>\n",
       "      <td>high</td>\n",
       "    </tr>\n",
       "  </tbody>\n",
       "</table>\n",
       "</div>"
      ],
      "text/plain": [
       "                 country   sex          age  suicides_no  population  \\\n",
       "year                                                                   \n",
       "1992  Russian Federation  male  35-54 years        15824    18933500   \n",
       "1993  Russian Federation  male  35-54 years        20256    18908000   \n",
       "1994  Russian Federation  male  35-54 years        22338    19044200   \n",
       "1995  Russian Federation  male  35-54 years        21706    19249600   \n",
       "1996  Russian Federation  male  35-54 years        20562    19507100   \n",
       "1997  Russian Federation  male  35-54 years        18973    19913400   \n",
       "1998  Russian Federation  male  35-54 years        18058    20487900   \n",
       "1999  Russian Federation  male  35-54 years        20705    21016400   \n",
       "2000  Russian Federation  male  35-54 years        21063    21378098   \n",
       "2001  Russian Federation  male  35-54 years        21262    21476420   \n",
       "2002  Russian Federation  male  35-54 years        20119    21320535   \n",
       "2003  Russian Federation  male  35-54 years        18681    21007346   \n",
       "2004  Russian Federation  male  35-54 years        17465    20843896   \n",
       "2005  Russian Federation  male  35-54 years        15843    20550405   \n",
       "\n",
       "      suicides/100k pop            country-year  gdp_for_year ($)  \\\n",
       "year                                                                \n",
       "1992              83.58  Russian Federation1992      460290556901   \n",
       "1993             107.13  Russian Federation1993      435083713851   \n",
       "1994             117.30  Russian Federation1994      395077301248   \n",
       "1995             112.76  Russian Federation1995      395531066563   \n",
       "1996             105.41  Russian Federation1996      391719993757   \n",
       "1997              95.28  Russian Federation1997      404926534140   \n",
       "1998              88.14  Russian Federation1998      270953116950   \n",
       "1999              98.52  Russian Federation1999      195905767669   \n",
       "2000              98.53  Russian Federation2000      259708496267   \n",
       "2001              99.00  Russian Federation2001      306602673980   \n",
       "2002              94.36  Russian Federation2002      345110438692   \n",
       "2003              88.93  Russian Federation2003      430347770732   \n",
       "2004              83.79  Russian Federation2004      591016690743   \n",
       "2005              77.09  Russian Federation2005      764017107992   \n",
       "\n",
       "      gdp_per_capita ($) generation suicides_rate  \n",
       "year                                               \n",
       "1992                3333    Boomers          high  \n",
       "1993                3160    Boomers          high  \n",
       "1994                2853    Boomers          high  \n",
       "1995                2844    Boomers          high  \n",
       "1996                2813    Boomers          high  \n",
       "1997                2907    Boomers          high  \n",
       "1998                1948    Boomers          high  \n",
       "1999                1412    Boomers          high  \n",
       "2000                1879    Boomers          high  \n",
       "2001                2229    Boomers          high  \n",
       "2002                2527    Boomers          high  \n",
       "2003                3141    Boomers          high  \n",
       "2004                4312    Boomers          high  \n",
       "2005                5611    Boomers          high  "
      ]
     },
     "execution_count": 30,
     "metadata": {},
     "output_type": "execute_result"
    }
   ],
   "source": [
    "sr[sr.suicides_rate=='high']"
   ]
  },
  {
   "cell_type": "markdown",
   "id": "d15d8d01",
   "metadata": {},
   "source": [
    "We can see that Russia Federation is the country with the most number of suicides."
   ]
  },
  {
   "cell_type": "code",
   "execution_count": 31,
   "id": "2601fdc8",
   "metadata": {},
   "outputs": [],
   "source": [
    "sr['population_rate'] = pd.cut(\n",
    "    sr['population'], bins=3, labels=['low', 'med', 'high']\n",
    ")"
   ]
  },
  {
   "cell_type": "markdown",
   "id": "c9c69866",
   "metadata": {},
   "source": [
    "I also use the pd.cut method to put the population variable into bins.<br>"
   ]
  },
  {
   "cell_type": "code",
   "execution_count": 32,
   "id": "fcb67a7d",
   "metadata": {},
   "outputs": [
    {
     "data": {
      "text/plain": [
       "low     27138\n",
       "med       615\n",
       "high       67\n",
       "Name: population_rate, dtype: int64"
      ]
     },
     "execution_count": 32,
     "metadata": {},
     "output_type": "execute_result"
    }
   ],
   "source": [
    "sr.population_rate.value_counts()"
   ]
  },
  {
   "cell_type": "markdown",
   "id": "fcbf308c",
   "metadata": {},
   "source": [
    "Most of the countries in this dataframe have a low population"
   ]
  },
  {
   "cell_type": "code",
   "execution_count": 33,
   "id": "3eaeba41",
   "metadata": {},
   "outputs": [
    {
     "data": {
      "text/plain": [
       "low     27711\n",
       "med        95\n",
       "high       14\n",
       "Name: suicides_rate, dtype: int64"
      ]
     },
     "execution_count": 33,
     "metadata": {},
     "output_type": "execute_result"
    }
   ],
   "source": [
    "sr.suicides_rate.value_counts()"
   ]
  },
  {
   "cell_type": "markdown",
   "id": "b515dcf2",
   "metadata": {},
   "source": [
    "The dataset is now in the form that I want.<br>\n",
    "I cleaned the data frame and removed na values.<br>\n",
    "I enriched the dataframe by adding the population_rate and suicides_rate columns.<br>\n",
    "I transformed the dataframe by setting the year as the index and sorting it.<br>\n",
    "Now it's time for some EDA!<br>"
   ]
  },
  {
   "cell_type": "markdown",
   "id": "e299df90",
   "metadata": {},
   "source": [
    "# Exploratory Data Analysis"
   ]
  },
  {
   "cell_type": "code",
   "execution_count": 34,
   "id": "e30c7f65",
   "metadata": {},
   "outputs": [
    {
     "data": {
      "text/html": [
       "<div>\n",
       "<style scoped>\n",
       "    .dataframe tbody tr th:only-of-type {\n",
       "        vertical-align: middle;\n",
       "    }\n",
       "\n",
       "    .dataframe tbody tr th {\n",
       "        vertical-align: top;\n",
       "    }\n",
       "\n",
       "    .dataframe thead th {\n",
       "        text-align: right;\n",
       "    }\n",
       "</style>\n",
       "<table border=\"1\" class=\"dataframe\">\n",
       "  <thead>\n",
       "    <tr style=\"text-align: right;\">\n",
       "      <th></th>\n",
       "      <th>country</th>\n",
       "      <th>sex</th>\n",
       "      <th>age</th>\n",
       "      <th>suicides_no</th>\n",
       "      <th>population</th>\n",
       "      <th>suicides/100k pop</th>\n",
       "      <th>country-year</th>\n",
       "      <th>gdp_for_year ($)</th>\n",
       "      <th>gdp_per_capita ($)</th>\n",
       "      <th>generation</th>\n",
       "      <th>suicides_rate</th>\n",
       "      <th>population_rate</th>\n",
       "    </tr>\n",
       "    <tr>\n",
       "      <th>year</th>\n",
       "      <th></th>\n",
       "      <th></th>\n",
       "      <th></th>\n",
       "      <th></th>\n",
       "      <th></th>\n",
       "      <th></th>\n",
       "      <th></th>\n",
       "      <th></th>\n",
       "      <th></th>\n",
       "      <th></th>\n",
       "      <th></th>\n",
       "      <th></th>\n",
       "    </tr>\n",
       "  </thead>\n",
       "  <tbody>\n",
       "    <tr>\n",
       "      <th>1985</th>\n",
       "      <td>Saint Vincent and Grenadines</td>\n",
       "      <td>male</td>\n",
       "      <td>35-54 years</td>\n",
       "      <td>2</td>\n",
       "      <td>6100</td>\n",
       "      <td>32.79</td>\n",
       "      <td>Saint Vincent and Grenadines1985</td>\n",
       "      <td>145641704</td>\n",
       "      <td>1622</td>\n",
       "      <td>Silent</td>\n",
       "      <td>low</td>\n",
       "      <td>low</td>\n",
       "    </tr>\n",
       "    <tr>\n",
       "      <th>1985</th>\n",
       "      <td>Saint Vincent and Grenadines</td>\n",
       "      <td>female</td>\n",
       "      <td>55-74 years</td>\n",
       "      <td>0</td>\n",
       "      <td>4100</td>\n",
       "      <td>0.00</td>\n",
       "      <td>Saint Vincent and Grenadines1985</td>\n",
       "      <td>145641704</td>\n",
       "      <td>1622</td>\n",
       "      <td>G.I. Generation</td>\n",
       "      <td>low</td>\n",
       "      <td>low</td>\n",
       "    </tr>\n",
       "    <tr>\n",
       "      <th>1985</th>\n",
       "      <td>Saint Vincent and Grenadines</td>\n",
       "      <td>female</td>\n",
       "      <td>75+ years</td>\n",
       "      <td>0</td>\n",
       "      <td>1000</td>\n",
       "      <td>0.00</td>\n",
       "      <td>Saint Vincent and Grenadines1985</td>\n",
       "      <td>145641704</td>\n",
       "      <td>1622</td>\n",
       "      <td>G.I. Generation</td>\n",
       "      <td>low</td>\n",
       "      <td>low</td>\n",
       "    </tr>\n",
       "    <tr>\n",
       "      <th>1985</th>\n",
       "      <td>Saint Vincent and Grenadines</td>\n",
       "      <td>male</td>\n",
       "      <td>15-24 years</td>\n",
       "      <td>0</td>\n",
       "      <td>12100</td>\n",
       "      <td>0.00</td>\n",
       "      <td>Saint Vincent and Grenadines1985</td>\n",
       "      <td>145641704</td>\n",
       "      <td>1622</td>\n",
       "      <td>Generation X</td>\n",
       "      <td>low</td>\n",
       "      <td>low</td>\n",
       "    </tr>\n",
       "    <tr>\n",
       "      <th>1985</th>\n",
       "      <td>Saint Vincent and Grenadines</td>\n",
       "      <td>male</td>\n",
       "      <td>25-34 years</td>\n",
       "      <td>0</td>\n",
       "      <td>9300</td>\n",
       "      <td>0.00</td>\n",
       "      <td>Saint Vincent and Grenadines1985</td>\n",
       "      <td>145641704</td>\n",
       "      <td>1622</td>\n",
       "      <td>Boomers</td>\n",
       "      <td>low</td>\n",
       "      <td>low</td>\n",
       "    </tr>\n",
       "  </tbody>\n",
       "</table>\n",
       "</div>"
      ],
      "text/plain": [
       "                           country     sex          age  suicides_no  \\\n",
       "year                                                                   \n",
       "1985  Saint Vincent and Grenadines    male  35-54 years            2   \n",
       "1985  Saint Vincent and Grenadines  female  55-74 years            0   \n",
       "1985  Saint Vincent and Grenadines  female    75+ years            0   \n",
       "1985  Saint Vincent and Grenadines    male  15-24 years            0   \n",
       "1985  Saint Vincent and Grenadines    male  25-34 years            0   \n",
       "\n",
       "      population  suicides/100k pop                      country-year  \\\n",
       "year                                                                    \n",
       "1985        6100              32.79  Saint Vincent and Grenadines1985   \n",
       "1985        4100               0.00  Saint Vincent and Grenadines1985   \n",
       "1985        1000               0.00  Saint Vincent and Grenadines1985   \n",
       "1985       12100               0.00  Saint Vincent and Grenadines1985   \n",
       "1985        9300               0.00  Saint Vincent and Grenadines1985   \n",
       "\n",
       "      gdp_for_year ($)  gdp_per_capita ($)       generation suicides_rate  \\\n",
       "year                                                                        \n",
       "1985         145641704                1622           Silent           low   \n",
       "1985         145641704                1622  G.I. Generation           low   \n",
       "1985         145641704                1622  G.I. Generation           low   \n",
       "1985         145641704                1622     Generation X           low   \n",
       "1985         145641704                1622          Boomers           low   \n",
       "\n",
       "     population_rate  \n",
       "year                  \n",
       "1985             low  \n",
       "1985             low  \n",
       "1985             low  \n",
       "1985             low  \n",
       "1985             low  "
      ]
     },
     "execution_count": 34,
     "metadata": {},
     "output_type": "execute_result"
    }
   ],
   "source": [
    "sr.head()"
   ]
  },
  {
   "cell_type": "code",
   "execution_count": 35,
   "id": "66356fea",
   "metadata": {},
   "outputs": [
    {
     "data": {
      "text/html": [
       "<div>\n",
       "<style scoped>\n",
       "    .dataframe tbody tr th:only-of-type {\n",
       "        vertical-align: middle;\n",
       "    }\n",
       "\n",
       "    .dataframe tbody tr th {\n",
       "        vertical-align: top;\n",
       "    }\n",
       "\n",
       "    .dataframe thead th {\n",
       "        text-align: right;\n",
       "    }\n",
       "</style>\n",
       "<table border=\"1\" class=\"dataframe\">\n",
       "  <thead>\n",
       "    <tr style=\"text-align: right;\">\n",
       "      <th></th>\n",
       "      <th>country</th>\n",
       "      <th>sex</th>\n",
       "      <th>age</th>\n",
       "      <th>suicides_no</th>\n",
       "      <th>population</th>\n",
       "      <th>suicides/100k pop</th>\n",
       "      <th>country-year</th>\n",
       "      <th>gdp_for_year ($)</th>\n",
       "      <th>gdp_per_capita ($)</th>\n",
       "      <th>generation</th>\n",
       "      <th>suicides_rate</th>\n",
       "      <th>population_rate</th>\n",
       "    </tr>\n",
       "    <tr>\n",
       "      <th>year</th>\n",
       "      <th></th>\n",
       "      <th></th>\n",
       "      <th></th>\n",
       "      <th></th>\n",
       "      <th></th>\n",
       "      <th></th>\n",
       "      <th></th>\n",
       "      <th></th>\n",
       "      <th></th>\n",
       "      <th></th>\n",
       "      <th></th>\n",
       "      <th></th>\n",
       "    </tr>\n",
       "  </thead>\n",
       "  <tbody>\n",
       "    <tr>\n",
       "      <th>1994</th>\n",
       "      <td>Russian Federation</td>\n",
       "      <td>male</td>\n",
       "      <td>35-54 years</td>\n",
       "      <td>22338</td>\n",
       "      <td>19044200</td>\n",
       "      <td>117.30</td>\n",
       "      <td>Russian Federation1994</td>\n",
       "      <td>395077301248</td>\n",
       "      <td>2853</td>\n",
       "      <td>Boomers</td>\n",
       "      <td>high</td>\n",
       "      <td>med</td>\n",
       "    </tr>\n",
       "    <tr>\n",
       "      <th>1995</th>\n",
       "      <td>Russian Federation</td>\n",
       "      <td>male</td>\n",
       "      <td>35-54 years</td>\n",
       "      <td>21706</td>\n",
       "      <td>19249600</td>\n",
       "      <td>112.76</td>\n",
       "      <td>Russian Federation1995</td>\n",
       "      <td>395531066563</td>\n",
       "      <td>2844</td>\n",
       "      <td>Boomers</td>\n",
       "      <td>high</td>\n",
       "      <td>med</td>\n",
       "    </tr>\n",
       "    <tr>\n",
       "      <th>2001</th>\n",
       "      <td>Russian Federation</td>\n",
       "      <td>male</td>\n",
       "      <td>35-54 years</td>\n",
       "      <td>21262</td>\n",
       "      <td>21476420</td>\n",
       "      <td>99.00</td>\n",
       "      <td>Russian Federation2001</td>\n",
       "      <td>306602673980</td>\n",
       "      <td>2229</td>\n",
       "      <td>Boomers</td>\n",
       "      <td>high</td>\n",
       "      <td>med</td>\n",
       "    </tr>\n",
       "    <tr>\n",
       "      <th>2000</th>\n",
       "      <td>Russian Federation</td>\n",
       "      <td>male</td>\n",
       "      <td>35-54 years</td>\n",
       "      <td>21063</td>\n",
       "      <td>21378098</td>\n",
       "      <td>98.53</td>\n",
       "      <td>Russian Federation2000</td>\n",
       "      <td>259708496267</td>\n",
       "      <td>1879</td>\n",
       "      <td>Boomers</td>\n",
       "      <td>high</td>\n",
       "      <td>med</td>\n",
       "    </tr>\n",
       "    <tr>\n",
       "      <th>1999</th>\n",
       "      <td>Russian Federation</td>\n",
       "      <td>male</td>\n",
       "      <td>35-54 years</td>\n",
       "      <td>20705</td>\n",
       "      <td>21016400</td>\n",
       "      <td>98.52</td>\n",
       "      <td>Russian Federation1999</td>\n",
       "      <td>195905767669</td>\n",
       "      <td>1412</td>\n",
       "      <td>Boomers</td>\n",
       "      <td>high</td>\n",
       "      <td>med</td>\n",
       "    </tr>\n",
       "    <tr>\n",
       "      <th>1996</th>\n",
       "      <td>Russian Federation</td>\n",
       "      <td>male</td>\n",
       "      <td>35-54 years</td>\n",
       "      <td>20562</td>\n",
       "      <td>19507100</td>\n",
       "      <td>105.41</td>\n",
       "      <td>Russian Federation1996</td>\n",
       "      <td>391719993757</td>\n",
       "      <td>2813</td>\n",
       "      <td>Boomers</td>\n",
       "      <td>high</td>\n",
       "      <td>med</td>\n",
       "    </tr>\n",
       "    <tr>\n",
       "      <th>1993</th>\n",
       "      <td>Russian Federation</td>\n",
       "      <td>male</td>\n",
       "      <td>35-54 years</td>\n",
       "      <td>20256</td>\n",
       "      <td>18908000</td>\n",
       "      <td>107.13</td>\n",
       "      <td>Russian Federation1993</td>\n",
       "      <td>435083713851</td>\n",
       "      <td>3160</td>\n",
       "      <td>Boomers</td>\n",
       "      <td>high</td>\n",
       "      <td>med</td>\n",
       "    </tr>\n",
       "    <tr>\n",
       "      <th>2002</th>\n",
       "      <td>Russian Federation</td>\n",
       "      <td>male</td>\n",
       "      <td>35-54 years</td>\n",
       "      <td>20119</td>\n",
       "      <td>21320535</td>\n",
       "      <td>94.36</td>\n",
       "      <td>Russian Federation2002</td>\n",
       "      <td>345110438692</td>\n",
       "      <td>2527</td>\n",
       "      <td>Boomers</td>\n",
       "      <td>high</td>\n",
       "      <td>med</td>\n",
       "    </tr>\n",
       "    <tr>\n",
       "      <th>1997</th>\n",
       "      <td>Russian Federation</td>\n",
       "      <td>male</td>\n",
       "      <td>35-54 years</td>\n",
       "      <td>18973</td>\n",
       "      <td>19913400</td>\n",
       "      <td>95.28</td>\n",
       "      <td>Russian Federation1997</td>\n",
       "      <td>404926534140</td>\n",
       "      <td>2907</td>\n",
       "      <td>Boomers</td>\n",
       "      <td>high</td>\n",
       "      <td>med</td>\n",
       "    </tr>\n",
       "    <tr>\n",
       "      <th>2003</th>\n",
       "      <td>Russian Federation</td>\n",
       "      <td>male</td>\n",
       "      <td>35-54 years</td>\n",
       "      <td>18681</td>\n",
       "      <td>21007346</td>\n",
       "      <td>88.93</td>\n",
       "      <td>Russian Federation2003</td>\n",
       "      <td>430347770732</td>\n",
       "      <td>3141</td>\n",
       "      <td>Boomers</td>\n",
       "      <td>high</td>\n",
       "      <td>med</td>\n",
       "    </tr>\n",
       "    <tr>\n",
       "      <th>1998</th>\n",
       "      <td>Russian Federation</td>\n",
       "      <td>male</td>\n",
       "      <td>35-54 years</td>\n",
       "      <td>18058</td>\n",
       "      <td>20487900</td>\n",
       "      <td>88.14</td>\n",
       "      <td>Russian Federation1998</td>\n",
       "      <td>270953116950</td>\n",
       "      <td>1948</td>\n",
       "      <td>Boomers</td>\n",
       "      <td>high</td>\n",
       "      <td>med</td>\n",
       "    </tr>\n",
       "    <tr>\n",
       "      <th>2004</th>\n",
       "      <td>Russian Federation</td>\n",
       "      <td>male</td>\n",
       "      <td>35-54 years</td>\n",
       "      <td>17465</td>\n",
       "      <td>20843896</td>\n",
       "      <td>83.79</td>\n",
       "      <td>Russian Federation2004</td>\n",
       "      <td>591016690743</td>\n",
       "      <td>4312</td>\n",
       "      <td>Boomers</td>\n",
       "      <td>high</td>\n",
       "      <td>med</td>\n",
       "    </tr>\n",
       "    <tr>\n",
       "      <th>2005</th>\n",
       "      <td>Russian Federation</td>\n",
       "      <td>male</td>\n",
       "      <td>35-54 years</td>\n",
       "      <td>15843</td>\n",
       "      <td>20550405</td>\n",
       "      <td>77.09</td>\n",
       "      <td>Russian Federation2005</td>\n",
       "      <td>764017107992</td>\n",
       "      <td>5611</td>\n",
       "      <td>Boomers</td>\n",
       "      <td>high</td>\n",
       "      <td>med</td>\n",
       "    </tr>\n",
       "    <tr>\n",
       "      <th>1992</th>\n",
       "      <td>Russian Federation</td>\n",
       "      <td>male</td>\n",
       "      <td>35-54 years</td>\n",
       "      <td>15824</td>\n",
       "      <td>18933500</td>\n",
       "      <td>83.58</td>\n",
       "      <td>Russian Federation1992</td>\n",
       "      <td>460290556901</td>\n",
       "      <td>3333</td>\n",
       "      <td>Boomers</td>\n",
       "      <td>high</td>\n",
       "      <td>med</td>\n",
       "    </tr>\n",
       "  </tbody>\n",
       "</table>\n",
       "</div>"
      ],
      "text/plain": [
       "                 country   sex          age  suicides_no  population  \\\n",
       "year                                                                   \n",
       "1994  Russian Federation  male  35-54 years        22338    19044200   \n",
       "1995  Russian Federation  male  35-54 years        21706    19249600   \n",
       "2001  Russian Federation  male  35-54 years        21262    21476420   \n",
       "2000  Russian Federation  male  35-54 years        21063    21378098   \n",
       "1999  Russian Federation  male  35-54 years        20705    21016400   \n",
       "1996  Russian Federation  male  35-54 years        20562    19507100   \n",
       "1993  Russian Federation  male  35-54 years        20256    18908000   \n",
       "2002  Russian Federation  male  35-54 years        20119    21320535   \n",
       "1997  Russian Federation  male  35-54 years        18973    19913400   \n",
       "2003  Russian Federation  male  35-54 years        18681    21007346   \n",
       "1998  Russian Federation  male  35-54 years        18058    20487900   \n",
       "2004  Russian Federation  male  35-54 years        17465    20843896   \n",
       "2005  Russian Federation  male  35-54 years        15843    20550405   \n",
       "1992  Russian Federation  male  35-54 years        15824    18933500   \n",
       "\n",
       "      suicides/100k pop            country-year  gdp_for_year ($)  \\\n",
       "year                                                                \n",
       "1994             117.30  Russian Federation1994      395077301248   \n",
       "1995             112.76  Russian Federation1995      395531066563   \n",
       "2001              99.00  Russian Federation2001      306602673980   \n",
       "2000              98.53  Russian Federation2000      259708496267   \n",
       "1999              98.52  Russian Federation1999      195905767669   \n",
       "1996             105.41  Russian Federation1996      391719993757   \n",
       "1993             107.13  Russian Federation1993      435083713851   \n",
       "2002              94.36  Russian Federation2002      345110438692   \n",
       "1997              95.28  Russian Federation1997      404926534140   \n",
       "2003              88.93  Russian Federation2003      430347770732   \n",
       "1998              88.14  Russian Federation1998      270953116950   \n",
       "2004              83.79  Russian Federation2004      591016690743   \n",
       "2005              77.09  Russian Federation2005      764017107992   \n",
       "1992              83.58  Russian Federation1992      460290556901   \n",
       "\n",
       "      gdp_per_capita ($) generation suicides_rate population_rate  \n",
       "year                                                               \n",
       "1994                2853    Boomers          high             med  \n",
       "1995                2844    Boomers          high             med  \n",
       "2001                2229    Boomers          high             med  \n",
       "2000                1879    Boomers          high             med  \n",
       "1999                1412    Boomers          high             med  \n",
       "1996                2813    Boomers          high             med  \n",
       "1993                3160    Boomers          high             med  \n",
       "2002                2527    Boomers          high             med  \n",
       "1997                2907    Boomers          high             med  \n",
       "2003                3141    Boomers          high             med  \n",
       "1998                1948    Boomers          high             med  \n",
       "2004                4312    Boomers          high             med  \n",
       "2005                5611    Boomers          high             med  \n",
       "1992                3333    Boomers          high             med  "
      ]
     },
     "execution_count": 35,
     "metadata": {},
     "output_type": "execute_result"
    }
   ],
   "source": [
    "sr[sr.suicides_rate=='high'].sort_values(by='suicides_no', ascending=False)"
   ]
  },
  {
   "cell_type": "markdown",
   "id": "b1042efe",
   "metadata": {},
   "source": [
    "Russian Federation has the most years where suicide cases in that year were off the charts. <br>\n",
    "The male aged between 35-54 years in the Russian Federation has a higher chance of killing himself. "
   ]
  },
  {
   "cell_type": "code",
   "execution_count": 36,
   "id": "66ad1997",
   "metadata": {},
   "outputs": [
    {
     "data": {
      "text/plain": [
       "low     27711\n",
       "med        95\n",
       "high       14\n",
       "Name: suicides_rate, dtype: int64"
      ]
     },
     "execution_count": 36,
     "metadata": {},
     "output_type": "execute_result"
    }
   ],
   "source": [
    "sr.suicides_rate.value_counts()"
   ]
  },
  {
   "cell_type": "markdown",
   "id": "b1ef42cf",
   "metadata": {},
   "source": [
    "Most countries suicides are considered to be relatively with 14 instances being considered high, that of which comes from the country Russia Federation as shown by previous notes."
   ]
  },
  {
   "cell_type": "code",
   "execution_count": 37,
   "id": "10199308",
   "metadata": {},
   "outputs": [
    {
     "data": {
      "text/html": [
       "<div>\n",
       "<style scoped>\n",
       "    .dataframe tbody tr th:only-of-type {\n",
       "        vertical-align: middle;\n",
       "    }\n",
       "\n",
       "    .dataframe tbody tr th {\n",
       "        vertical-align: top;\n",
       "    }\n",
       "\n",
       "    .dataframe thead th {\n",
       "        text-align: right;\n",
       "    }\n",
       "</style>\n",
       "<table border=\"1\" class=\"dataframe\">\n",
       "  <thead>\n",
       "    <tr style=\"text-align: right;\">\n",
       "      <th></th>\n",
       "      <th>country</th>\n",
       "      <th>country-year</th>\n",
       "      <th>generation</th>\n",
       "    </tr>\n",
       "  </thead>\n",
       "  <tbody>\n",
       "    <tr>\n",
       "      <th>count</th>\n",
       "      <td>27820</td>\n",
       "      <td>27820</td>\n",
       "      <td>27820</td>\n",
       "    </tr>\n",
       "    <tr>\n",
       "      <th>unique</th>\n",
       "      <td>101</td>\n",
       "      <td>2321</td>\n",
       "      <td>6</td>\n",
       "    </tr>\n",
       "    <tr>\n",
       "      <th>top</th>\n",
       "      <td>Iceland</td>\n",
       "      <td>Saint Vincent and Grenadines1985</td>\n",
       "      <td>Generation X</td>\n",
       "    </tr>\n",
       "    <tr>\n",
       "      <th>freq</th>\n",
       "      <td>382</td>\n",
       "      <td>12</td>\n",
       "      <td>6408</td>\n",
       "    </tr>\n",
       "  </tbody>\n",
       "</table>\n",
       "</div>"
      ],
      "text/plain": [
       "        country                      country-year    generation\n",
       "count     27820                             27820         27820\n",
       "unique      101                              2321             6\n",
       "top     Iceland  Saint Vincent and Grenadines1985  Generation X\n",
       "freq        382                                12          6408"
      ]
     },
     "execution_count": 37,
     "metadata": {},
     "output_type": "execute_result"
    }
   ],
   "source": [
    "sr.describe(include='object')"
   ]
  },
  {
   "cell_type": "code",
   "execution_count": 38,
   "id": "f98a080f",
   "metadata": {},
   "outputs": [
    {
     "data": {
      "text/plain": [
       "0"
      ]
     },
     "execution_count": 38,
     "metadata": {},
     "output_type": "execute_result"
    }
   ],
   "source": [
    "sr[sr.duplicated()].shape[0]"
   ]
  },
  {
   "cell_type": "markdown",
   "id": "e2cc87f1",
   "metadata": {},
   "source": [
    "Our dataframe has no duplicate values."
   ]
  },
  {
   "cell_type": "code",
   "execution_count": 39,
   "id": "033cf0eb",
   "metadata": {},
   "outputs": [
    {
     "data": {
      "text/html": [
       "<div>\n",
       "<style scoped>\n",
       "    .dataframe tbody tr th:only-of-type {\n",
       "        vertical-align: middle;\n",
       "    }\n",
       "\n",
       "    .dataframe tbody tr th {\n",
       "        vertical-align: top;\n",
       "    }\n",
       "\n",
       "    .dataframe thead th {\n",
       "        text-align: right;\n",
       "    }\n",
       "</style>\n",
       "<table border=\"1\" class=\"dataframe\">\n",
       "  <thead>\n",
       "    <tr style=\"text-align: right;\">\n",
       "      <th></th>\n",
       "      <th>count</th>\n",
       "      <th>mean</th>\n",
       "      <th>std</th>\n",
       "      <th>min</th>\n",
       "      <th>25%</th>\n",
       "      <th>50%</th>\n",
       "      <th>75%</th>\n",
       "      <th>max</th>\n",
       "    </tr>\n",
       "    <tr>\n",
       "      <th>country</th>\n",
       "      <th></th>\n",
       "      <th></th>\n",
       "      <th></th>\n",
       "      <th></th>\n",
       "      <th></th>\n",
       "      <th></th>\n",
       "      <th></th>\n",
       "      <th></th>\n",
       "    </tr>\n",
       "  </thead>\n",
       "  <tbody>\n",
       "    <tr>\n",
       "      <th>Albania</th>\n",
       "      <td>264.0</td>\n",
       "      <td>7.462121</td>\n",
       "      <td>8.414098</td>\n",
       "      <td>0.0</td>\n",
       "      <td>1.00</td>\n",
       "      <td>5.0</td>\n",
       "      <td>11.25</td>\n",
       "      <td>39.0</td>\n",
       "    </tr>\n",
       "    <tr>\n",
       "      <th>Antigua and Barbuda</th>\n",
       "      <td>324.0</td>\n",
       "      <td>0.033951</td>\n",
       "      <td>0.197716</td>\n",
       "      <td>0.0</td>\n",
       "      <td>0.00</td>\n",
       "      <td>0.0</td>\n",
       "      <td>0.00</td>\n",
       "      <td>2.0</td>\n",
       "    </tr>\n",
       "    <tr>\n",
       "      <th>Argentina</th>\n",
       "      <td>372.0</td>\n",
       "      <td>221.018817</td>\n",
       "      <td>196.017402</td>\n",
       "      <td>7.0</td>\n",
       "      <td>61.00</td>\n",
       "      <td>164.0</td>\n",
       "      <td>360.00</td>\n",
       "      <td>745.0</td>\n",
       "    </tr>\n",
       "    <tr>\n",
       "      <th>Armenia</th>\n",
       "      <td>298.0</td>\n",
       "      <td>6.392617</td>\n",
       "      <td>6.740266</td>\n",
       "      <td>0.0</td>\n",
       "      <td>1.00</td>\n",
       "      <td>4.0</td>\n",
       "      <td>10.00</td>\n",
       "      <td>32.0</td>\n",
       "    </tr>\n",
       "    <tr>\n",
       "      <th>Aruba</th>\n",
       "      <td>168.0</td>\n",
       "      <td>0.601190</td>\n",
       "      <td>1.067427</td>\n",
       "      <td>0.0</td>\n",
       "      <td>0.00</td>\n",
       "      <td>0.0</td>\n",
       "      <td>1.00</td>\n",
       "      <td>4.0</td>\n",
       "    </tr>\n",
       "    <tr>\n",
       "      <th>...</th>\n",
       "      <td>...</td>\n",
       "      <td>...</td>\n",
       "      <td>...</td>\n",
       "      <td>...</td>\n",
       "      <td>...</td>\n",
       "      <td>...</td>\n",
       "      <td>...</td>\n",
       "      <td>...</td>\n",
       "    </tr>\n",
       "    <tr>\n",
       "      <th>United Arab Emirates</th>\n",
       "      <td>72.0</td>\n",
       "      <td>8.638889</td>\n",
       "      <td>13.192300</td>\n",
       "      <td>0.0</td>\n",
       "      <td>0.00</td>\n",
       "      <td>3.0</td>\n",
       "      <td>7.75</td>\n",
       "      <td>52.0</td>\n",
       "    </tr>\n",
       "    <tr>\n",
       "      <th>United Kingdom</th>\n",
       "      <td>372.0</td>\n",
       "      <td>367.755376</td>\n",
       "      <td>379.698095</td>\n",
       "      <td>0.0</td>\n",
       "      <td>97.00</td>\n",
       "      <td>236.0</td>\n",
       "      <td>542.50</td>\n",
       "      <td>1743.0</td>\n",
       "    </tr>\n",
       "    <tr>\n",
       "      <th>United States</th>\n",
       "      <td>372.0</td>\n",
       "      <td>2779.604839</td>\n",
       "      <td>2752.716420</td>\n",
       "      <td>50.0</td>\n",
       "      <td>558.75</td>\n",
       "      <td>2193.0</td>\n",
       "      <td>4145.50</td>\n",
       "      <td>11767.0</td>\n",
       "    </tr>\n",
       "    <tr>\n",
       "      <th>Uruguay</th>\n",
       "      <td>336.0</td>\n",
       "      <td>39.101190</td>\n",
       "      <td>36.780371</td>\n",
       "      <td>0.0</td>\n",
       "      <td>10.00</td>\n",
       "      <td>27.0</td>\n",
       "      <td>60.25</td>\n",
       "      <td>152.0</td>\n",
       "    </tr>\n",
       "    <tr>\n",
       "      <th>Uzbekistan</th>\n",
       "      <td>264.0</td>\n",
       "      <td>131.829545</td>\n",
       "      <td>130.536322</td>\n",
       "      <td>3.0</td>\n",
       "      <td>25.00</td>\n",
       "      <td>83.5</td>\n",
       "      <td>222.00</td>\n",
       "      <td>528.0</td>\n",
       "    </tr>\n",
       "  </tbody>\n",
       "</table>\n",
       "<p>101 rows × 8 columns</p>\n",
       "</div>"
      ],
      "text/plain": [
       "                      count         mean          std   min     25%     50%  \\\n",
       "country                                                                       \n",
       "Albania               264.0     7.462121     8.414098   0.0    1.00     5.0   \n",
       "Antigua and Barbuda   324.0     0.033951     0.197716   0.0    0.00     0.0   \n",
       "Argentina             372.0   221.018817   196.017402   7.0   61.00   164.0   \n",
       "Armenia               298.0     6.392617     6.740266   0.0    1.00     4.0   \n",
       "Aruba                 168.0     0.601190     1.067427   0.0    0.00     0.0   \n",
       "...                     ...          ...          ...   ...     ...     ...   \n",
       "United Arab Emirates   72.0     8.638889    13.192300   0.0    0.00     3.0   \n",
       "United Kingdom        372.0   367.755376   379.698095   0.0   97.00   236.0   \n",
       "United States         372.0  2779.604839  2752.716420  50.0  558.75  2193.0   \n",
       "Uruguay               336.0    39.101190    36.780371   0.0   10.00    27.0   \n",
       "Uzbekistan            264.0   131.829545   130.536322   3.0   25.00    83.5   \n",
       "\n",
       "                          75%      max  \n",
       "country                                 \n",
       "Albania                 11.25     39.0  \n",
       "Antigua and Barbuda      0.00      2.0  \n",
       "Argentina              360.00    745.0  \n",
       "Armenia                 10.00     32.0  \n",
       "Aruba                    1.00      4.0  \n",
       "...                       ...      ...  \n",
       "United Arab Emirates     7.75     52.0  \n",
       "United Kingdom         542.50   1743.0  \n",
       "United States         4145.50  11767.0  \n",
       "Uruguay                 60.25    152.0  \n",
       "Uzbekistan             222.00    528.0  \n",
       "\n",
       "[101 rows x 8 columns]"
      ]
     },
     "execution_count": 39,
     "metadata": {},
     "output_type": "execute_result"
    }
   ],
   "source": [
    "sr.reset_index().pivot(columns='country', values='suicides_no').describe().T"
   ]
  },
  {
   "cell_type": "markdown",
   "id": "e780d9cf",
   "metadata": {},
   "source": [
    "Upon viewing the returned dataframe we can see that the United States has worrying statistics.<br>\n",
    "The minimum number of suicides recorded for the United States between 1985 to 2016 is 50.<br>\n",
    "The maximum number of suicides recorded for a specific gender and age group per year is 11767.  This is very worrying. "
   ]
  },
  {
   "cell_type": "code",
   "execution_count": 40,
   "id": "dea44929",
   "metadata": {},
   "outputs": [],
   "source": [
    "new = sr.reset_index().pivot(columns='country', values='suicides_no').describe().T"
   ]
  },
  {
   "cell_type": "code",
   "execution_count": 41,
   "id": "fbd54e0e",
   "metadata": {},
   "outputs": [
    {
     "data": {
      "text/html": [
       "<div>\n",
       "<style scoped>\n",
       "    .dataframe tbody tr th:only-of-type {\n",
       "        vertical-align: middle;\n",
       "    }\n",
       "\n",
       "    .dataframe tbody tr th {\n",
       "        vertical-align: top;\n",
       "    }\n",
       "\n",
       "    .dataframe thead th {\n",
       "        text-align: right;\n",
       "    }\n",
       "</style>\n",
       "<table border=\"1\" class=\"dataframe\">\n",
       "  <thead>\n",
       "    <tr style=\"text-align: right;\">\n",
       "      <th></th>\n",
       "      <th>count</th>\n",
       "      <th>mean</th>\n",
       "      <th>std</th>\n",
       "      <th>min</th>\n",
       "      <th>25%</th>\n",
       "      <th>50%</th>\n",
       "      <th>75%</th>\n",
       "      <th>max</th>\n",
       "    </tr>\n",
       "    <tr>\n",
       "      <th>country</th>\n",
       "      <th></th>\n",
       "      <th></th>\n",
       "      <th></th>\n",
       "      <th></th>\n",
       "      <th></th>\n",
       "      <th></th>\n",
       "      <th></th>\n",
       "      <th></th>\n",
       "    </tr>\n",
       "  </thead>\n",
       "  <tbody>\n",
       "    <tr>\n",
       "      <th>Russian Federation</th>\n",
       "      <td>324.0</td>\n",
       "      <td>3733.771605</td>\n",
       "      <td>4613.607105</td>\n",
       "      <td>44.0</td>\n",
       "      <td>924.25</td>\n",
       "      <td>1526.5</td>\n",
       "      <td>5737.25</td>\n",
       "      <td>22338.0</td>\n",
       "    </tr>\n",
       "    <tr>\n",
       "      <th>United States</th>\n",
       "      <td>372.0</td>\n",
       "      <td>2779.604839</td>\n",
       "      <td>2752.716420</td>\n",
       "      <td>50.0</td>\n",
       "      <td>558.75</td>\n",
       "      <td>2193.0</td>\n",
       "      <td>4145.50</td>\n",
       "      <td>11767.0</td>\n",
       "    </tr>\n",
       "    <tr>\n",
       "      <th>Japan</th>\n",
       "      <td>372.0</td>\n",
       "      <td>2169.091398</td>\n",
       "      <td>2170.876295</td>\n",
       "      <td>12.0</td>\n",
       "      <td>641.50</td>\n",
       "      <td>1641.0</td>\n",
       "      <td>2585.25</td>\n",
       "      <td>8948.0</td>\n",
       "    </tr>\n",
       "    <tr>\n",
       "      <th>Ukraine</th>\n",
       "      <td>336.0</td>\n",
       "      <td>952.232143</td>\n",
       "      <td>1146.912554</td>\n",
       "      <td>6.0</td>\n",
       "      <td>179.75</td>\n",
       "      <td>517.5</td>\n",
       "      <td>1152.75</td>\n",
       "      <td>5203.0</td>\n",
       "    </tr>\n",
       "    <tr>\n",
       "      <th>Germany</th>\n",
       "      <td>312.0</td>\n",
       "      <td>933.532051</td>\n",
       "      <td>886.297355</td>\n",
       "      <td>5.0</td>\n",
       "      <td>168.25</td>\n",
       "      <td>759.0</td>\n",
       "      <td>1249.50</td>\n",
       "      <td>3427.0</td>\n",
       "    </tr>\n",
       "    <tr>\n",
       "      <th>...</th>\n",
       "      <td>...</td>\n",
       "      <td>...</td>\n",
       "      <td>...</td>\n",
       "      <td>...</td>\n",
       "      <td>...</td>\n",
       "      <td>...</td>\n",
       "      <td>...</td>\n",
       "      <td>...</td>\n",
       "    </tr>\n",
       "    <tr>\n",
       "      <th>Grenada</th>\n",
       "      <td>310.0</td>\n",
       "      <td>0.122581</td>\n",
       "      <td>0.407621</td>\n",
       "      <td>0.0</td>\n",
       "      <td>0.00</td>\n",
       "      <td>0.0</td>\n",
       "      <td>0.00</td>\n",
       "      <td>3.0</td>\n",
       "    </tr>\n",
       "    <tr>\n",
       "      <th>San Marino</th>\n",
       "      <td>36.0</td>\n",
       "      <td>0.111111</td>\n",
       "      <td>0.318728</td>\n",
       "      <td>0.0</td>\n",
       "      <td>0.00</td>\n",
       "      <td>0.0</td>\n",
       "      <td>0.00</td>\n",
       "      <td>1.0</td>\n",
       "    </tr>\n",
       "    <tr>\n",
       "      <th>Antigua and Barbuda</th>\n",
       "      <td>324.0</td>\n",
       "      <td>0.033951</td>\n",
       "      <td>0.197716</td>\n",
       "      <td>0.0</td>\n",
       "      <td>0.00</td>\n",
       "      <td>0.0</td>\n",
       "      <td>0.00</td>\n",
       "      <td>2.0</td>\n",
       "    </tr>\n",
       "    <tr>\n",
       "      <th>Saint Kitts and Nevis</th>\n",
       "      <td>36.0</td>\n",
       "      <td>0.000000</td>\n",
       "      <td>0.000000</td>\n",
       "      <td>0.0</td>\n",
       "      <td>0.00</td>\n",
       "      <td>0.0</td>\n",
       "      <td>0.00</td>\n",
       "      <td>0.0</td>\n",
       "    </tr>\n",
       "    <tr>\n",
       "      <th>Dominica</th>\n",
       "      <td>12.0</td>\n",
       "      <td>0.000000</td>\n",
       "      <td>0.000000</td>\n",
       "      <td>0.0</td>\n",
       "      <td>0.00</td>\n",
       "      <td>0.0</td>\n",
       "      <td>0.00</td>\n",
       "      <td>0.0</td>\n",
       "    </tr>\n",
       "  </tbody>\n",
       "</table>\n",
       "<p>101 rows × 8 columns</p>\n",
       "</div>"
      ],
      "text/plain": [
       "                       count         mean          std   min     25%     50%  \\\n",
       "country                                                                        \n",
       "Russian Federation     324.0  3733.771605  4613.607105  44.0  924.25  1526.5   \n",
       "United States          372.0  2779.604839  2752.716420  50.0  558.75  2193.0   \n",
       "Japan                  372.0  2169.091398  2170.876295  12.0  641.50  1641.0   \n",
       "Ukraine                336.0   952.232143  1146.912554   6.0  179.75   517.5   \n",
       "Germany                312.0   933.532051   886.297355   5.0  168.25   759.0   \n",
       "...                      ...          ...          ...   ...     ...     ...   \n",
       "Grenada                310.0     0.122581     0.407621   0.0    0.00     0.0   \n",
       "San Marino              36.0     0.111111     0.318728   0.0    0.00     0.0   \n",
       "Antigua and Barbuda    324.0     0.033951     0.197716   0.0    0.00     0.0   \n",
       "Saint Kitts and Nevis   36.0     0.000000     0.000000   0.0    0.00     0.0   \n",
       "Dominica                12.0     0.000000     0.000000   0.0    0.00     0.0   \n",
       "\n",
       "                           75%      max  \n",
       "country                                  \n",
       "Russian Federation     5737.25  22338.0  \n",
       "United States          4145.50  11767.0  \n",
       "Japan                  2585.25   8948.0  \n",
       "Ukraine                1152.75   5203.0  \n",
       "Germany                1249.50   3427.0  \n",
       "...                        ...      ...  \n",
       "Grenada                   0.00      3.0  \n",
       "San Marino                0.00      1.0  \n",
       "Antigua and Barbuda       0.00      2.0  \n",
       "Saint Kitts and Nevis     0.00      0.0  \n",
       "Dominica                  0.00      0.0  \n",
       "\n",
       "[101 rows x 8 columns]"
      ]
     },
     "execution_count": 41,
     "metadata": {},
     "output_type": "execute_result"
    }
   ],
   "source": [
    "new.sort_values(by='mean', ascending=False)"
   ]
  },
  {
   "cell_type": "markdown",
   "id": "4880bac9",
   "metadata": {},
   "source": [
    "Russia Federation on average has the most number of suicide cases."
   ]
  },
  {
   "cell_type": "markdown",
   "id": "b30c16d5",
   "metadata": {},
   "source": [
    "## Data Visualization\n",
    "Now we take a look at some visualizations.  Working with the dataframe to perform exploratory data analysis is fine, but the rows and columns are too many to look at the data on a granular level.<br>\n",
    "Data visualization helps humans to easily pickout patterns which were otherwise hard to see."
   ]
  },
  {
   "cell_type": "code",
   "execution_count": 42,
   "id": "78bfdff2",
   "metadata": {},
   "outputs": [],
   "source": [
    "import matplotlib.pyplot as plt"
   ]
  },
  {
   "cell_type": "code",
   "execution_count": 43,
   "id": "b4c4652a",
   "metadata": {},
   "outputs": [
    {
     "data": {
      "text/plain": [
       "Text(0, 0.5, 'Suicides')"
      ]
     },
     "execution_count": 43,
     "metadata": {},
     "output_type": "execute_result"
    },
    {
     "data": {
      "image/png": "[encoded data removed]",
      "text/plain": [
       "<Figure size 1000x500 with 1 Axes>"
      ]
     },
     "metadata": {},
     "output_type": "display_data"
    }
   ],
   "source": [
    "sr.groupby('sex')['suicides_no'].sum().sort_values().plot(kind='bar', figsize=(10,5), title='Suicidal rates per gender')\n",
    "plt.ylabel('Suicides')"
   ]
  },
  {
   "cell_type": "markdown",
   "id": "b9720e16",
   "metadata": {},
   "source": [
    "Males have higher suicidal fatalities than females."
   ]
  },
  {
   "cell_type": "code",
   "execution_count": 44,
   "id": "cc245b9d",
   "metadata": {},
   "outputs": [
    {
     "data": {
      "text/plain": [
       "Text(0.5, 0, 'Suicides')"
      ]
     },
     "execution_count": 44,
     "metadata": {},
     "output_type": "execute_result"
    },
    {
     "data": {
      "image/png": "[encoded data removed]",
      "text/plain": [
       "<Figure size 1000x500 with 1 Axes>"
      ]
     },
     "metadata": {},
     "output_type": "display_data"
    }
   ],
   "source": [
    "sr.groupby('age').sum()['suicides_no'].sort_values().plot(kind='barh', figsize=(10,5), title='Suicides per age group')\n",
    "plt.xlabel('Suicides')"
   ]
  },
  {
   "cell_type": "markdown",
   "id": "f6884b46",
   "metadata": {},
   "source": [
    "The age between 35 to 54 is where most people are killing themselves."
   ]
  },
  {
   "cell_type": "code",
   "execution_count": 45,
   "id": "c3cfc552",
   "metadata": {},
   "outputs": [
    {
     "data": {
      "text/plain": [
       "Text(0.5, 0, 'suicides')"
      ]
     },
     "execution_count": 45,
     "metadata": {},
     "output_type": "execute_result"
    },
    {
     "data": {
      "image/png": "[encoded data removed]",
      "text/plain": [
       "<Figure size 1000x500 with 1 Axes>"
      ]
     },
     "metadata": {},
     "output_type": "display_data"
    }
   ],
   "source": [
    "sr.groupby('country').sum()['suicides/100k pop'].sort_values().iloc[-10:,].plot(kind='barh', figsize=(10,5), title='Suicides per country from 1985 to 2016')\n",
    "plt.xlabel('suicides')"
   ]
  },
  {
   "cell_type": "markdown",
   "id": "83ee62ea",
   "metadata": {},
   "source": [
    "Russia Federation is the country with the highest suicial rate.  (number of suicides per 100k people)."
   ]
  },
  {
   "cell_type": "code",
   "execution_count": 46,
   "id": "aa163b76",
   "metadata": {},
   "outputs": [
    {
     "data": {
      "text/plain": [
       "Text(0.5, 0, 'suicides')"
      ]
     },
     "execution_count": 46,
     "metadata": {},
     "output_type": "execute_result"
    },
    {
     "data": {
      "image/png": "[encoded data removed]",
      "text/plain": [
       "<Figure size 1000x500 with 1 Axes>"
      ]
     },
     "metadata": {},
     "output_type": "display_data"
    }
   ],
   "source": [
    "sr.groupby(level=0).sum()['suicides_no'].sort_values().iloc[-10:,].plot(kind='barh', figsize=(10,5), title='Suicides per year')\n",
    "plt.xlabel('suicides')"
   ]
  },
  {
   "cell_type": "markdown",
   "id": "8bfa1bf2",
   "metadata": {},
   "source": [
    "1999, 2002, 2003 and 2000 are the years where suicide levels were highest."
   ]
  },
  {
   "cell_type": "code",
   "execution_count": 47,
   "id": "43e208d5",
   "metadata": {},
   "outputs": [
    {
     "data": {
      "text/plain": [
       "Text(0, 0.5, 'Suicides')"
      ]
     },
     "execution_count": 47,
     "metadata": {},
     "output_type": "execute_result"
    },
    {
     "data": {
      "image/png": "[encoded data removed]",
      "text/plain": [
       "<Figure size 640x480 with 1 Axes>"
      ]
     },
     "metadata": {},
     "output_type": "display_data"
    }
   ],
   "source": [
    "sr.groupby('generation').sum()['suicides_no'].plot(kind='bar', title='Suicides by generation from 1985 to 2016')\n",
    "plt.ylabel(\"Suicides\")"
   ]
  },
  {
   "cell_type": "markdown",
   "id": "be0e5660",
   "metadata": {},
   "source": [
    "The Boomers and Silent generation have the highest suicide levels.  Gen Z is at a relatively low."
   ]
  },
  {
   "cell_type": "code",
   "execution_count": 48,
   "id": "68c05cab",
   "metadata": {},
   "outputs": [],
   "source": [
    "def suicide_hist(country):\n",
    "    return sr[sr.country==country]['suicides_no'].plot(kind='hist', title=f'Histogram on suicides in {country}')"
   ]
  },
  {
   "cell_type": "code",
   "execution_count": 49,
   "id": "2feadfc7",
   "metadata": {},
   "outputs": [
    {
     "data": {
      "text/plain": [
       "Text(0.5, 0, 'suicides')"
      ]
     },
     "execution_count": 49,
     "metadata": {},
     "output_type": "execute_result"
    },
    {
     "data": {
      "image/png": "[encoded data removed]",
      "text/plain": [
       "<Figure size 640x480 with 1 Axes>"
      ]
     },
     "metadata": {},
     "output_type": "display_data"
    }
   ],
   "source": [
    "suicide_hist('Austria')\n",
    "plt.xlabel('suicides')"
   ]
  },
  {
   "cell_type": "markdown",
   "id": "ec8c445e",
   "metadata": {},
   "source": [
    "I created a function which returns a histogram of a particular country for the number of suicides.<br>\n",
    "Per particular gender and age group on a specific year, most suicides are between 0 to 50.<br>\n",
    "As compared to the other countries we have seen this is a good statistic.<br>\n",
    "The distribution is positively skewed."
   ]
  },
  {
   "cell_type": "code",
   "execution_count": 50,
   "id": "e4a47745",
   "metadata": {},
   "outputs": [],
   "source": [
    "highest_suicidal_countries = sr.groupby('country')['suicides/100k pop'].sum().sort_values(ascending=False)[0:5].index"
   ]
  },
  {
   "cell_type": "code",
   "execution_count": 51,
   "id": "faa18fa7",
   "metadata": {},
   "outputs": [
    {
     "data": {
      "text/plain": [
       "Text(0.5, 0, 'suicides')"
      ]
     },
     "execution_count": 51,
     "metadata": {},
     "output_type": "execute_result"
    },
    {
     "data": {
      "image/png": "[encoded data removed]",
      "text/plain": [
       "<Figure size 1000x500 with 6 Axes>"
      ]
     },
     "metadata": {},
     "output_type": "display_data"
    }
   ],
   "source": [
    "\n",
    "sr.reset_index().pivot(columns='country', values='suicides_no')[highest_suicidal_countries].plot(kind='hist', subplots=True, layout=(3,2), figsize=(10,5), title='Highest suicidal countries histograms')\n",
    "plt.xlabel('suicides')"
   ]
  },
  {
   "cell_type": "markdown",
   "id": "c8d9dcb7",
   "metadata": {},
   "source": [
    "I plotted the histograms for the countries with the most suides per 100k population.<br>\n",
    "Because Russia Federation's suicide cases are over the roof, the rest of the countries histogram's distributions are somewhat weird.(I don't know the statistical term for this)<br>\n",
    "But fear not, we have a function that looks at the histogram of a particular country."
   ]
  },
  {
   "cell_type": "code",
   "execution_count": 52,
   "id": "cc6573dc",
   "metadata": {},
   "outputs": [
    {
     "data": {
      "text/plain": [
       "Text(0.5, 0, 'suicides')"
      ]
     },
     "execution_count": 52,
     "metadata": {},
     "output_type": "execute_result"
    },
    {
     "data": {
      "image/png": "[encoded data removed]",
      "text/plain": [
       "<Figure size 640x480 with 1 Axes>"
      ]
     },
     "metadata": {},
     "output_type": "display_data"
    }
   ],
   "source": [
    "suicide_hist(\"Hungary\")\n",
    "plt.xlabel('suicides')"
   ]
  },
  {
   "cell_type": "code",
   "execution_count": 53,
   "id": "7438f08e",
   "metadata": {},
   "outputs": [],
   "source": [
    "highest_suicidal_countries = ['Russian Federation', 'Lithuania', 'Hungary', 'Kazakhstan', 'Republic of Korea']\n"
   ]
  },
  {
   "cell_type": "code",
   "execution_count": 54,
   "id": "263ac95b",
   "metadata": {},
   "outputs": [
    {
     "data": {
      "text/html": [
       "<div>\n",
       "<style scoped>\n",
       "    .dataframe tbody tr th:only-of-type {\n",
       "        vertical-align: middle;\n",
       "    }\n",
       "\n",
       "    .dataframe tbody tr th {\n",
       "        vertical-align: top;\n",
       "    }\n",
       "\n",
       "    .dataframe thead th {\n",
       "        text-align: right;\n",
       "    }\n",
       "</style>\n",
       "<table border=\"1\" class=\"dataframe\">\n",
       "  <thead>\n",
       "    <tr style=\"text-align: right;\">\n",
       "      <th></th>\n",
       "      <th>country</th>\n",
       "      <th>sex</th>\n",
       "      <th>age</th>\n",
       "      <th>suicides_no</th>\n",
       "      <th>population</th>\n",
       "      <th>suicides/100k pop</th>\n",
       "      <th>country-year</th>\n",
       "      <th>gdp_for_year ($)</th>\n",
       "      <th>gdp_per_capita ($)</th>\n",
       "      <th>generation</th>\n",
       "      <th>suicides_rate</th>\n",
       "      <th>population_rate</th>\n",
       "    </tr>\n",
       "    <tr>\n",
       "      <th>year</th>\n",
       "      <th></th>\n",
       "      <th></th>\n",
       "      <th></th>\n",
       "      <th></th>\n",
       "      <th></th>\n",
       "      <th></th>\n",
       "      <th></th>\n",
       "      <th></th>\n",
       "      <th></th>\n",
       "      <th></th>\n",
       "      <th></th>\n",
       "      <th></th>\n",
       "    </tr>\n",
       "  </thead>\n",
       "  <tbody>\n",
       "    <tr>\n",
       "      <th>1985</th>\n",
       "      <td>Republic of Korea</td>\n",
       "      <td>male</td>\n",
       "      <td>75+ years</td>\n",
       "      <td>42</td>\n",
       "      <td>154800</td>\n",
       "      <td>27.13</td>\n",
       "      <td>Republic of Korea1985</td>\n",
       "      <td>100273097170</td>\n",
       "      <td>2731</td>\n",
       "      <td>G.I. Generation</td>\n",
       "      <td>low</td>\n",
       "      <td>low</td>\n",
       "    </tr>\n",
       "    <tr>\n",
       "      <th>1985</th>\n",
       "      <td>Republic of Korea</td>\n",
       "      <td>male</td>\n",
       "      <td>55-74 years</td>\n",
       "      <td>393</td>\n",
       "      <td>1498300</td>\n",
       "      <td>26.23</td>\n",
       "      <td>Republic of Korea1985</td>\n",
       "      <td>100273097170</td>\n",
       "      <td>2731</td>\n",
       "      <td>G.I. Generation</td>\n",
       "      <td>low</td>\n",
       "      <td>low</td>\n",
       "    </tr>\n",
       "    <tr>\n",
       "      <th>1985</th>\n",
       "      <td>Republic of Korea</td>\n",
       "      <td>male</td>\n",
       "      <td>35-54 years</td>\n",
       "      <td>903</td>\n",
       "      <td>4285700</td>\n",
       "      <td>21.07</td>\n",
       "      <td>Republic of Korea1985</td>\n",
       "      <td>100273097170</td>\n",
       "      <td>2731</td>\n",
       "      <td>Silent</td>\n",
       "      <td>low</td>\n",
       "      <td>low</td>\n",
       "    </tr>\n",
       "    <tr>\n",
       "      <th>1985</th>\n",
       "      <td>Republic of Korea</td>\n",
       "      <td>male</td>\n",
       "      <td>25-34 years</td>\n",
       "      <td>655</td>\n",
       "      <td>3616800</td>\n",
       "      <td>18.11</td>\n",
       "      <td>Republic of Korea1985</td>\n",
       "      <td>100273097170</td>\n",
       "      <td>2731</td>\n",
       "      <td>Boomers</td>\n",
       "      <td>low</td>\n",
       "      <td>low</td>\n",
       "    </tr>\n",
       "    <tr>\n",
       "      <th>1985</th>\n",
       "      <td>Republic of Korea</td>\n",
       "      <td>male</td>\n",
       "      <td>15-24 years</td>\n",
       "      <td>678</td>\n",
       "      <td>4413000</td>\n",
       "      <td>15.36</td>\n",
       "      <td>Republic of Korea1985</td>\n",
       "      <td>100273097170</td>\n",
       "      <td>2731</td>\n",
       "      <td>Generation X</td>\n",
       "      <td>low</td>\n",
       "      <td>low</td>\n",
       "    </tr>\n",
       "    <tr>\n",
       "      <th>...</th>\n",
       "      <td>...</td>\n",
       "      <td>...</td>\n",
       "      <td>...</td>\n",
       "      <td>...</td>\n",
       "      <td>...</td>\n",
       "      <td>...</td>\n",
       "      <td>...</td>\n",
       "      <td>...</td>\n",
       "      <td>...</td>\n",
       "      <td>...</td>\n",
       "      <td>...</td>\n",
       "      <td>...</td>\n",
       "    </tr>\n",
       "    <tr>\n",
       "      <th>2016</th>\n",
       "      <td>Hungary</td>\n",
       "      <td>male</td>\n",
       "      <td>25-34 years</td>\n",
       "      <td>98</td>\n",
       "      <td>633114</td>\n",
       "      <td>15.48</td>\n",
       "      <td>Hungary2016</td>\n",
       "      <td>125816640421</td>\n",
       "      <td>13448</td>\n",
       "      <td>Millenials</td>\n",
       "      <td>low</td>\n",
       "      <td>low</td>\n",
       "    </tr>\n",
       "    <tr>\n",
       "      <th>2016</th>\n",
       "      <td>Hungary</td>\n",
       "      <td>female</td>\n",
       "      <td>55-74 years</td>\n",
       "      <td>161</td>\n",
       "      <td>1346205</td>\n",
       "      <td>11.96</td>\n",
       "      <td>Hungary2016</td>\n",
       "      <td>125816640421</td>\n",
       "      <td>13448</td>\n",
       "      <td>Boomers</td>\n",
       "      <td>low</td>\n",
       "      <td>low</td>\n",
       "    </tr>\n",
       "    <tr>\n",
       "      <th>2016</th>\n",
       "      <td>Hungary</td>\n",
       "      <td>male</td>\n",
       "      <td>15-24 years</td>\n",
       "      <td>58</td>\n",
       "      <td>568065</td>\n",
       "      <td>10.21</td>\n",
       "      <td>Hungary2016</td>\n",
       "      <td>125816640421</td>\n",
       "      <td>13448</td>\n",
       "      <td>Millenials</td>\n",
       "      <td>low</td>\n",
       "      <td>low</td>\n",
       "    </tr>\n",
       "    <tr>\n",
       "      <th>2016</th>\n",
       "      <td>Hungary</td>\n",
       "      <td>female</td>\n",
       "      <td>35-54 years</td>\n",
       "      <td>121</td>\n",
       "      <td>1432415</td>\n",
       "      <td>8.45</td>\n",
       "      <td>Hungary2016</td>\n",
       "      <td>125816640421</td>\n",
       "      <td>13448</td>\n",
       "      <td>Generation X</td>\n",
       "      <td>low</td>\n",
       "      <td>low</td>\n",
       "    </tr>\n",
       "    <tr>\n",
       "      <th>2016</th>\n",
       "      <td>Hungary</td>\n",
       "      <td>female</td>\n",
       "      <td>25-34 years</td>\n",
       "      <td>30</td>\n",
       "      <td>602785</td>\n",
       "      <td>4.98</td>\n",
       "      <td>Hungary2016</td>\n",
       "      <td>125816640421</td>\n",
       "      <td>13448</td>\n",
       "      <td>Millenials</td>\n",
       "      <td>low</td>\n",
       "      <td>low</td>\n",
       "    </tr>\n",
       "  </tbody>\n",
       "</table>\n",
       "<p>1580 rows × 12 columns</p>\n",
       "</div>"
      ],
      "text/plain": [
       "                country     sex          age  suicides_no  population  \\\n",
       "year                                                                    \n",
       "1985  Republic of Korea    male    75+ years           42      154800   \n",
       "1985  Republic of Korea    male  55-74 years          393     1498300   \n",
       "1985  Republic of Korea    male  35-54 years          903     4285700   \n",
       "1985  Republic of Korea    male  25-34 years          655     3616800   \n",
       "1985  Republic of Korea    male  15-24 years          678     4413000   \n",
       "...                 ...     ...          ...          ...         ...   \n",
       "2016            Hungary    male  25-34 years           98      633114   \n",
       "2016            Hungary  female  55-74 years          161     1346205   \n",
       "2016            Hungary    male  15-24 years           58      568065   \n",
       "2016            Hungary  female  35-54 years          121     1432415   \n",
       "2016            Hungary  female  25-34 years           30      602785   \n",
       "\n",
       "      suicides/100k pop           country-year  gdp_for_year ($)  \\\n",
       "year                                                               \n",
       "1985              27.13  Republic of Korea1985      100273097170   \n",
       "1985              26.23  Republic of Korea1985      100273097170   \n",
       "1985              21.07  Republic of Korea1985      100273097170   \n",
       "1985              18.11  Republic of Korea1985      100273097170   \n",
       "1985              15.36  Republic of Korea1985      100273097170   \n",
       "...                 ...                    ...               ...   \n",
       "2016              15.48            Hungary2016      125816640421   \n",
       "2016              11.96            Hungary2016      125816640421   \n",
       "2016              10.21            Hungary2016      125816640421   \n",
       "2016               8.45            Hungary2016      125816640421   \n",
       "2016               4.98            Hungary2016      125816640421   \n",
       "\n",
       "      gdp_per_capita ($)       generation suicides_rate population_rate  \n",
       "year                                                                     \n",
       "1985                2731  G.I. Generation           low             low  \n",
       "1985                2731  G.I. Generation           low             low  \n",
       "1985                2731           Silent           low             low  \n",
       "1985                2731          Boomers           low             low  \n",
       "1985                2731     Generation X           low             low  \n",
       "...                  ...              ...           ...             ...  \n",
       "2016               13448       Millenials           low             low  \n",
       "2016               13448          Boomers           low             low  \n",
       "2016               13448       Millenials           low             low  \n",
       "2016               13448     Generation X           low             low  \n",
       "2016               13448       Millenials           low             low  \n",
       "\n",
       "[1580 rows x 12 columns]"
      ]
     },
     "execution_count": 54,
     "metadata": {},
     "output_type": "execute_result"
    }
   ],
   "source": [
    "sr.query(f'country=={highest_suicidal_countries}')"
   ]
  },
  {
   "cell_type": "code",
   "execution_count": 55,
   "id": "b4ec5e74",
   "metadata": {},
   "outputs": [
    {
     "data": {
      "text/plain": [
       "<AxesSubplot:title={'center':'Population vs Number of suicides'}, xlabel='population', ylabel='suicides_no'>"
      ]
     },
     "execution_count": 55,
     "metadata": {},
     "output_type": "execute_result"
    },
    {
     "data": {
      "image/png": "[encoded data removed]",
      "text/plain": [
       "<Figure size 640x480 with 1 Axes>"
      ]
     },
     "metadata": {},
     "output_type": "display_data"
    }
   ],
   "source": [
    "sr.query(f'country=={highest_suicidal_countries} and age==\"5-14 years\" ').plot(kind='scatter', x='population', y='suicides_no', title='Population vs Number of suicides')"
   ]
  },
  {
   "cell_type": "markdown",
   "id": "67106fae",
   "metadata": {},
   "source": [
    "There is a positive correlation between the population and the number of suicides for countries with the highest suicidal rates.  (no of suicides per 100k)"
   ]
  },
  {
   "cell_type": "code",
   "execution_count": 56,
   "id": "dfa22744",
   "metadata": {},
   "outputs": [],
   "source": [
    "high_sr = sr.query(f'country=={highest_suicidal_countries}')"
   ]
  },
  {
   "cell_type": "code",
   "execution_count": 57,
   "id": "9fd8c99d",
   "metadata": {},
   "outputs": [
    {
     "data": {
      "text/plain": [
       "Text(0, 0.5, 'Suicides')"
      ]
     },
     "execution_count": 57,
     "metadata": {},
     "output_type": "execute_result"
    },
    {
     "data": {
      "image/png": "[encoded data removed]",
      "text/plain": [
       "<Figure size 640x480 with 1 Axes>"
      ]
     },
     "metadata": {},
     "output_type": "display_data"
    }
   ],
   "source": [
    "high_sr.reset_index().pivot(columns='country', values='suicides_no').plot(kind='box', title='Suicide Rates Box Plot from 1985 to 2016')\n",
    "plt.ylabel('Suicides')"
   ]
  },
  {
   "cell_type": "markdown",
   "id": "7d977b04",
   "metadata": {},
   "source": [
    "Box plots showing suicide fatalities for the countries with the highest suicidal rates.<br>\n"
   ]
  },
  {
   "cell_type": "markdown",
   "id": "303e596d",
   "metadata": {},
   "source": [
    "## **If you've read this until the end a big shout out to you.\n",
    "22 July 2023 10:47 a.m<br>\n",
    "The Good Writer/Che"
   ]
  }
 ],
 "metadata": {
  "kernelspec": {
   "display_name": "Python 3 (ipykernel)",
   "language": "python",
   "name": "python3"
  },
  "language_info": {
   "codemirror_mode": {
    "name": "ipython",
    "version": 3
   },
   "file_extension": ".py",
   "mimetype": "text/x-python",
   "name": "python",
   "nbconvert_exporter": "python",
   "pygments_lexer": "ipython3",
   "version": "3.9.13"
  }
 },
 "nbformat": 4,
 "nbformat_minor": 5
}
